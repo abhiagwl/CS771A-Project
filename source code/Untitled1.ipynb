{
 "cells": [
  {
   "cell_type": "code",
   "execution_count": 17,
   "metadata": {
    "collapsed": false
   },
   "outputs": [
    {
     "data": {
      "text/plain": [
       "'from sklearn.preprocessing import MinMaxScaler\\nX = MinMaxScaler().fit_transform(train_x)'"
      ]
     },
     "execution_count": 17,
     "metadata": {},
     "output_type": "execute_result"
    }
   ],
   "source": [
    "import os\n",
    "import numpy as np\n",
    "import pandas as pd\n",
    "from scipy.misc import imread\n",
    "from sklearn.metrics import accuracy_score\n",
    "\n",
    "import theano\n",
    "import theano.tensor as T\n",
    "\n",
    "import pylab\n",
    "\n",
    "root_dir = os.path.abspath('../..')\n",
    "proj_dir = os.path.join(root_dir, 'project')\n",
    "data_dir= os.path.join(proj_dir, \"validate\", \"Val_Aligned_Faces\")\n",
    "\n",
    "emotions=\"Angry, Disgust, Fear, Happy, Neutral, Sad, Surprise\"\n",
    "emotions=emotions.split(',')\n",
    "emotions=[e.replace(\" \",\"\") for e in emotions]\n",
    "\n",
    "temp1 = []\n",
    "temp2 = []\n",
    "for ind,emotion in enumerate(emotions):\n",
    "    temp=[]\n",
    "    for files in os.walk(os.path.join(data_dir, emotion)):\n",
    "        for filenames in files:\n",
    "            temp.append(filenames)\n",
    "    files=temp[2]\n",
    "    for img_name in files:\n",
    "        #print(img_name)\n",
    "        image_path = os.path.join(os.path.join(data_dir, emotion), img_name)\n",
    "        img = imread(image_path, flatten=True)\n",
    "        img = img.astype('float32')\n",
    "        img = np.reshape(img,(181*143,))\n",
    "        temp1.append(img)\n",
    "        temp2.append(ind)\n",
    "\n",
    "Validate_x = np.stack(temp1)\n",
    "Validate_y = np.stack(temp2)\n",
    "\n",
    "\"\"\"from sklearn.preprocessing import MinMaxScaler\n",
    "X = MinMaxScaler().fit_transform(train_x)\"\"\""
   ]
  },
  {
   "cell_type": "code",
   "execution_count": 19,
   "metadata": {
    "collapsed": false
   },
   "outputs": [
    {
     "data": {
      "text/plain": [
       "(431,)"
      ]
     },
     "execution_count": 19,
     "metadata": {},
     "output_type": "execute_result"
    }
   ],
   "source": [
    "Validate_y.shape"
   ]
  },
  {
   "cell_type": "code",
   "execution_count": 22,
   "metadata": {
    "collapsed": false
   },
   "outputs": [
    {
     "data": {
      "text/plain": [
       "'\\ntrain_try=trainx.iloc[np.random.permutation(len(train_x))]\\n\\ntrain_try.head()\\n\\ny_try=train_try.as_matrix(train_try.columns.values[-1:])\\n\\ny_try=np.reshape(y_try,(891,))\\n\\nx_try=train_try.as_matrix(train_try.columns.values[:-1])\\n\\ntrain_try.columns.values[-1:]\\nX_train=pd.DataFrame(train_x)\\ntrain_try[train_try.columns.values[:-1]].to_csv(\"shuffled_X.csv\",index=False,index_label=False,header=False)\\ntrain_try[train_try.columns.values[-1:]].to_csv(\"shuffled_Y.csv\",index=False,index_label=False,header=False)\\nfrom random import shuffle\\n\\nshuffle(training_data)\\n'"
      ]
     },
     "execution_count": 22,
     "metadata": {},
     "output_type": "execute_result"
    }
   ],
   "source": [
    "X_Val=pd.DataFrame(Validate_x)\n",
    "Y_Val=pd.DataFrame(Validate_y)\n",
    "\n",
    "X_Val[\"predict\"]=Y_Val\n",
    "\n",
    "Val_try=X_Val.iloc[np.random.permutation(len(X_Val))]\n",
    "Val_try.head()\n",
    "Val_try[Val_try.columns.values[:-1]].to_csv(\"shuffled_Val_X.csv\",index=False,index_label=False,header=False)\n",
    "Val_try[Val_try.columns.values[-1:]].to_csv(\"shuffled_Val_Y.csv\",index=False,index_label=False,header=False)\n",
    "\n",
    "\"\"\"\n",
    "train_try=trainx.iloc[np.random.permutation(len(train_x))]\n",
    "\n",
    "train_try.head()\n",
    "\n",
    "y_try=train_try.as_matrix(train_try.columns.values[-1:])\n",
    "\n",
    "y_try=np.reshape(y_try,(891,))\n",
    "\n",
    "x_try=train_try.as_matrix(train_try.columns.values[:-1])\n",
    "\n",
    "train_try.columns.values[-1:]\n",
    "X_train=pd.DataFrame(train_x)\n",
    "train_try[train_try.columns.values[:-1]].to_csv(\"shuffled_X.csv\",index=False,index_label=False,header=False)\n",
    "train_try[train_try.columns.values[-1:]].to_csv(\"shuffled_Y.csv\",index=False,index_label=False,header=False)\n",
    "from random import shuffle\n",
    "\n",
    "shuffle(training_data)\n",
    "\"\"\""
   ]
  },
  {
   "cell_type": "code",
   "execution_count": 24,
   "metadata": {
    "collapsed": false
   },
   "outputs": [
    {
     "data": {
      "text/plain": [
       "(431, 25884)"
      ]
     },
     "execution_count": 24,
     "metadata": {},
     "output_type": "execute_result"
    }
   ],
   "source": [
    "Val_try.shape"
   ]
  },
  {
   "cell_type": "code",
   "execution_count": 25,
   "metadata": {
    "collapsed": true
   },
   "outputs": [],
   "source": [
    "Val_try[Val_try.columns.values[:-1]].to_csv(\"shuffled_Val_X.csv\",index=False,index_label=False,header=False)\n",
    "Val_try[Val_try.columns.values[-1:]].to_csv(\"shuffled_Val_Y.csv\",index=False,index_label=False,header=False)"
   ]
  },
  {
   "cell_type": "code",
   "execution_count": 29,
   "metadata": {
    "collapsed": false
   },
   "outputs": [
    {
     "data": {
      "text/plain": [
       "431"
      ]
     },
     "execution_count": 29,
     "metadata": {},
     "output_type": "execute_result"
    }
   ],
   "source": [
    "Validate_x.shape[0]"
   ]
  },
  {
   "cell_type": "code",
   "execution_count": 10,
   "metadata": {
    "collapsed": false
   },
   "outputs": [
    {
     "data": {
      "text/plain": [
       "'from sklearn.preprocessing import MinMaxScaler\\nX = MinMaxScaler().fit_transform(train_x)'"
      ]
     },
     "execution_count": 10,
     "metadata": {},
     "output_type": "execute_result"
    }
   ],
   "source": [
    "import os\n",
    "import numpy as np\n",
    "import pandas as pd\n",
    "from scipy.misc import imread\n",
    "from scipy.misc import imrotate\n",
    "from scipy.misc import imresize\n",
    "from sklearn.metrics import accuracy_score\n",
    "\n",
    "import theano\n",
    "import theano.tensor as T\n",
    "\n",
    "import pylab\n",
    "\n",
    "root_dir = os.path.abspath('../..')\n",
    "proj_dir = os.path.join(root_dir, 'project')\n",
    "data_dir= os.path.join(proj_dir, \"train\", \"Train_Aligned_Faces\")\n",
    "\n",
    "emotions=\"Angry, Disgust, Fear, Happy, Neutral, Sad, Surprise\"\n",
    "emotions=emotions.split(',')\n",
    "emotions=[e.replace(\" \",\"\") for e in emotions]\n",
    "\n",
    "temp1 = []\n",
    "temp2 = []\n",
    "for ind,emotion in enumerate(emotions):\n",
    "    temp=[]\n",
    "    for files in os.walk(os.path.join(data_dir, emotion)):\n",
    "        for filenames in files:\n",
    "            temp.append(filenames)\n",
    "    files=temp[2]\n",
    "    for img_name in files:\n",
    "        #print(img_name)\n",
    "        image_path = os.path.join(os.path.join(data_dir, emotion), img_name)\n",
    "        img = imread(image_path, flatten=True)\n",
    "        img2= imrotate(img,10)\n",
    "        img3= imrotate(img,20)\n",
    "        img4= imrotate(img,-10)\n",
    "        img5= imrotate(img,-20)\n",
    "        img = img.astype('float32')\n",
    "\n",
    "        img = np.reshape(img,(181*143,))\n",
    "        img2 = np.reshape(img2,(181*143,))\n",
    "        img3 = np.reshape(img3,(181*143,))\n",
    "        img4 = np.reshape(img4,(181*143,))\n",
    "        img5 = np.reshape(img5,(181*143,))\n",
    "        temp1.append(img)\n",
    "        temp1.append(img2)\n",
    "        temp1.append(img3)\n",
    "        temp1.append(img4)\n",
    "        temp1.append(img5)\n",
    "        \n",
    "        temp2.append(ind)\n",
    "        temp2.append(ind)\n",
    "        temp2.append(ind)\n",
    "        temp2.append(ind)\n",
    "        temp2.append(ind)\n",
    "\n",
    "train_x = np.stack(temp1)\n",
    "train_y = np.stack(temp2)\n",
    "\n",
    "\"\"\"from sklearn.preprocessing import MinMaxScaler\n",
    "X = MinMaxScaler().fit_transform(train_x)\"\"\""
   ]
  },
  {
   "cell_type": "code",
   "execution_count": 11,
   "metadata": {
    "collapsed": false
   },
   "outputs": [],
   "source": [
    "X_train=pd.DataFrame(train_x)\n",
    "Y_train=pd.DataFrame(train_y)"
   ]
  },
  {
   "cell_type": "code",
   "execution_count": 16,
   "metadata": {
    "collapsed": false
   },
   "outputs": [
    {
     "data": {
      "text/plain": [
       "array([0, 0, 0, ..., 0, 0, 0], dtype=uint8)"
      ]
     },
     "execution_count": 16,
     "metadata": {},
     "output_type": "execute_result"
    }
   ],
   "source": [
    "img2"
   ]
  },
  {
   "cell_type": "code",
   "execution_count": 12,
   "metadata": {
    "collapsed": true
   },
   "outputs": [],
   "source": [
    "X_train[\"predict\"]=Y_train\n",
    "\n",
    "train_try=X_train.iloc[np.random.permutation(len(X_train))]\n",
    "train_try[train_try.columns.values[:-1]].to_csv(\"shuffled_ext_train_X.csv\",index=False,index_label=False,header=False)\n",
    "train_try[train_try.columns.values[-1:]].to_csv(\"shuffled_ext_train_Y.csv\",index=False,index_label=False,header=False)\n"
   ]
  },
  {
   "cell_type": "code",
   "execution_count": 40,
   "metadata": {
    "collapsed": false
   },
   "outputs": [
    {
     "data": {
      "text/html": [
       "<div>\n",
       "<table border=\"1\" class=\"dataframe\">\n",
       "  <thead>\n",
       "    <tr style=\"text-align: right;\">\n",
       "      <th></th>\n",
       "      <th>100</th>\n",
       "      <th>101</th>\n",
       "      <th>102</th>\n",
       "      <th>103</th>\n",
       "      <th>104</th>\n",
       "      <th>105</th>\n",
       "      <th>106</th>\n",
       "      <th>107</th>\n",
       "      <th>108</th>\n",
       "      <th>109</th>\n",
       "      <th>...</th>\n",
       "      <th>170</th>\n",
       "      <th>171</th>\n",
       "      <th>172</th>\n",
       "      <th>173</th>\n",
       "      <th>174</th>\n",
       "      <th>175</th>\n",
       "      <th>176</th>\n",
       "      <th>177</th>\n",
       "      <th>178</th>\n",
       "      <th>179</th>\n",
       "    </tr>\n",
       "  </thead>\n",
       "  <tbody>\n",
       "    <tr>\n",
       "      <th>0</th>\n",
       "      <td>86.962997</td>\n",
       "      <td>85.778000</td>\n",
       "      <td>85.191002</td>\n",
       "      <td>84.191002</td>\n",
       "      <td>81.778000</td>\n",
       "      <td>79.593002</td>\n",
       "      <td>78.820999</td>\n",
       "      <td>78.820999</td>\n",
       "      <td>78.407997</td>\n",
       "      <td>76.522003</td>\n",
       "      <td>...</td>\n",
       "      <td>60.563999</td>\n",
       "      <td>60.450001</td>\n",
       "      <td>60.749001</td>\n",
       "      <td>61.161999</td>\n",
       "      <td>61.161999</td>\n",
       "      <td>61.161999</td>\n",
       "      <td>63.161999</td>\n",
       "      <td>64.162003</td>\n",
       "      <td>65.162003</td>\n",
       "      <td>66.047997</td>\n",
       "    </tr>\n",
       "    <tr>\n",
       "      <th>1</th>\n",
       "      <td>134.000000</td>\n",
       "      <td>129.000000</td>\n",
       "      <td>125.000000</td>\n",
       "      <td>117.000000</td>\n",
       "      <td>110.000000</td>\n",
       "      <td>105.000000</td>\n",
       "      <td>98.000000</td>\n",
       "      <td>90.000000</td>\n",
       "      <td>82.000000</td>\n",
       "      <td>75.000000</td>\n",
       "      <td>...</td>\n",
       "      <td>0.000000</td>\n",
       "      <td>0.000000</td>\n",
       "      <td>0.000000</td>\n",
       "      <td>0.000000</td>\n",
       "      <td>0.000000</td>\n",
       "      <td>0.000000</td>\n",
       "      <td>0.000000</td>\n",
       "      <td>0.000000</td>\n",
       "      <td>0.000000</td>\n",
       "      <td>0.000000</td>\n",
       "    </tr>\n",
       "    <tr>\n",
       "      <th>2</th>\n",
       "      <td>68.000000</td>\n",
       "      <td>67.000000</td>\n",
       "      <td>58.000000</td>\n",
       "      <td>53.000000</td>\n",
       "      <td>52.000000</td>\n",
       "      <td>52.000000</td>\n",
       "      <td>60.000000</td>\n",
       "      <td>68.000000</td>\n",
       "      <td>74.000000</td>\n",
       "      <td>79.000000</td>\n",
       "      <td>...</td>\n",
       "      <td>0.000000</td>\n",
       "      <td>0.000000</td>\n",
       "      <td>0.000000</td>\n",
       "      <td>0.000000</td>\n",
       "      <td>0.000000</td>\n",
       "      <td>0.000000</td>\n",
       "      <td>0.000000</td>\n",
       "      <td>0.000000</td>\n",
       "      <td>0.000000</td>\n",
       "      <td>0.000000</td>\n",
       "    </tr>\n",
       "    <tr>\n",
       "      <th>3</th>\n",
       "      <td>0.000000</td>\n",
       "      <td>0.000000</td>\n",
       "      <td>0.000000</td>\n",
       "      <td>0.000000</td>\n",
       "      <td>0.000000</td>\n",
       "      <td>0.000000</td>\n",
       "      <td>0.000000</td>\n",
       "      <td>0.000000</td>\n",
       "      <td>0.000000</td>\n",
       "      <td>0.000000</td>\n",
       "      <td>...</td>\n",
       "      <td>46.000000</td>\n",
       "      <td>48.000000</td>\n",
       "      <td>54.000000</td>\n",
       "      <td>61.000000</td>\n",
       "      <td>69.000000</td>\n",
       "      <td>78.000000</td>\n",
       "      <td>84.000000</td>\n",
       "      <td>87.000000</td>\n",
       "      <td>91.000000</td>\n",
       "      <td>96.000000</td>\n",
       "    </tr>\n",
       "    <tr>\n",
       "      <th>4</th>\n",
       "      <td>0.000000</td>\n",
       "      <td>0.000000</td>\n",
       "      <td>0.000000</td>\n",
       "      <td>0.000000</td>\n",
       "      <td>0.000000</td>\n",
       "      <td>0.000000</td>\n",
       "      <td>0.000000</td>\n",
       "      <td>0.000000</td>\n",
       "      <td>0.000000</td>\n",
       "      <td>0.000000</td>\n",
       "      <td>...</td>\n",
       "      <td>0.000000</td>\n",
       "      <td>32.000000</td>\n",
       "      <td>37.000000</td>\n",
       "      <td>38.000000</td>\n",
       "      <td>42.000000</td>\n",
       "      <td>49.000000</td>\n",
       "      <td>43.000000</td>\n",
       "      <td>33.000000</td>\n",
       "      <td>30.000000</td>\n",
       "      <td>35.000000</td>\n",
       "    </tr>\n",
       "    <tr>\n",
       "      <th>5</th>\n",
       "      <td>74.504997</td>\n",
       "      <td>83.260002</td>\n",
       "      <td>84.348000</td>\n",
       "      <td>84.778000</td>\n",
       "      <td>85.113998</td>\n",
       "      <td>83.054001</td>\n",
       "      <td>84.130997</td>\n",
       "      <td>82.489998</td>\n",
       "      <td>82.575996</td>\n",
       "      <td>86.320000</td>\n",
       "      <td>...</td>\n",
       "      <td>46.308998</td>\n",
       "      <td>49.308998</td>\n",
       "      <td>42.380001</td>\n",
       "      <td>37.380001</td>\n",
       "      <td>43.308998</td>\n",
       "      <td>44.308998</td>\n",
       "      <td>39.032001</td>\n",
       "      <td>45.032001</td>\n",
       "      <td>43.988998</td>\n",
       "      <td>39.988998</td>\n",
       "    </tr>\n",
       "    <tr>\n",
       "      <th>6</th>\n",
       "      <td>96.000000</td>\n",
       "      <td>100.000000</td>\n",
       "      <td>103.000000</td>\n",
       "      <td>102.000000</td>\n",
       "      <td>103.000000</td>\n",
       "      <td>104.000000</td>\n",
       "      <td>104.000000</td>\n",
       "      <td>100.000000</td>\n",
       "      <td>94.000000</td>\n",
       "      <td>88.000000</td>\n",
       "      <td>...</td>\n",
       "      <td>0.000000</td>\n",
       "      <td>0.000000</td>\n",
       "      <td>0.000000</td>\n",
       "      <td>0.000000</td>\n",
       "      <td>0.000000</td>\n",
       "      <td>0.000000</td>\n",
       "      <td>0.000000</td>\n",
       "      <td>0.000000</td>\n",
       "      <td>0.000000</td>\n",
       "      <td>0.000000</td>\n",
       "    </tr>\n",
       "    <tr>\n",
       "      <th>7</th>\n",
       "      <td>163.000000</td>\n",
       "      <td>162.000000</td>\n",
       "      <td>153.000000</td>\n",
       "      <td>122.000000</td>\n",
       "      <td>88.000000</td>\n",
       "      <td>56.000000</td>\n",
       "      <td>37.000000</td>\n",
       "      <td>24.000000</td>\n",
       "      <td>18.000000</td>\n",
       "      <td>18.000000</td>\n",
       "      <td>...</td>\n",
       "      <td>0.000000</td>\n",
       "      <td>0.000000</td>\n",
       "      <td>0.000000</td>\n",
       "      <td>0.000000</td>\n",
       "      <td>0.000000</td>\n",
       "      <td>0.000000</td>\n",
       "      <td>0.000000</td>\n",
       "      <td>0.000000</td>\n",
       "      <td>0.000000</td>\n",
       "      <td>0.000000</td>\n",
       "    </tr>\n",
       "    <tr>\n",
       "      <th>8</th>\n",
       "      <td>0.000000</td>\n",
       "      <td>0.000000</td>\n",
       "      <td>0.000000</td>\n",
       "      <td>0.000000</td>\n",
       "      <td>0.000000</td>\n",
       "      <td>0.000000</td>\n",
       "      <td>0.000000</td>\n",
       "      <td>0.000000</td>\n",
       "      <td>0.000000</td>\n",
       "      <td>0.000000</td>\n",
       "      <td>...</td>\n",
       "      <td>45.000000</td>\n",
       "      <td>47.000000</td>\n",
       "      <td>48.000000</td>\n",
       "      <td>48.000000</td>\n",
       "      <td>48.000000</td>\n",
       "      <td>48.000000</td>\n",
       "      <td>42.000000</td>\n",
       "      <td>28.000000</td>\n",
       "      <td>21.000000</td>\n",
       "      <td>24.000000</td>\n",
       "    </tr>\n",
       "    <tr>\n",
       "      <th>9</th>\n",
       "      <td>0.000000</td>\n",
       "      <td>0.000000</td>\n",
       "      <td>0.000000</td>\n",
       "      <td>0.000000</td>\n",
       "      <td>0.000000</td>\n",
       "      <td>0.000000</td>\n",
       "      <td>0.000000</td>\n",
       "      <td>0.000000</td>\n",
       "      <td>0.000000</td>\n",
       "      <td>0.000000</td>\n",
       "      <td>...</td>\n",
       "      <td>0.000000</td>\n",
       "      <td>28.000000</td>\n",
       "      <td>30.000000</td>\n",
       "      <td>33.000000</td>\n",
       "      <td>33.000000</td>\n",
       "      <td>34.000000</td>\n",
       "      <td>37.000000</td>\n",
       "      <td>39.000000</td>\n",
       "      <td>41.000000</td>\n",
       "      <td>41.000000</td>\n",
       "    </tr>\n",
       "  </tbody>\n",
       "</table>\n",
       "<p>10 rows × 80 columns</p>\n",
       "</div>"
      ],
      "text/plain": [
       "          100         101         102         103         104         105  \\\n",
       "0   86.962997   85.778000   85.191002   84.191002   81.778000   79.593002   \n",
       "1  134.000000  129.000000  125.000000  117.000000  110.000000  105.000000   \n",
       "2   68.000000   67.000000   58.000000   53.000000   52.000000   52.000000   \n",
       "3    0.000000    0.000000    0.000000    0.000000    0.000000    0.000000   \n",
       "4    0.000000    0.000000    0.000000    0.000000    0.000000    0.000000   \n",
       "5   74.504997   83.260002   84.348000   84.778000   85.113998   83.054001   \n",
       "6   96.000000  100.000000  103.000000  102.000000  103.000000  104.000000   \n",
       "7  163.000000  162.000000  153.000000  122.000000   88.000000   56.000000   \n",
       "8    0.000000    0.000000    0.000000    0.000000    0.000000    0.000000   \n",
       "9    0.000000    0.000000    0.000000    0.000000    0.000000    0.000000   \n",
       "\n",
       "          106         107        108        109    ...            170  \\\n",
       "0   78.820999   78.820999  78.407997  76.522003    ...      60.563999   \n",
       "1   98.000000   90.000000  82.000000  75.000000    ...       0.000000   \n",
       "2   60.000000   68.000000  74.000000  79.000000    ...       0.000000   \n",
       "3    0.000000    0.000000   0.000000   0.000000    ...      46.000000   \n",
       "4    0.000000    0.000000   0.000000   0.000000    ...       0.000000   \n",
       "5   84.130997   82.489998  82.575996  86.320000    ...      46.308998   \n",
       "6  104.000000  100.000000  94.000000  88.000000    ...       0.000000   \n",
       "7   37.000000   24.000000  18.000000  18.000000    ...       0.000000   \n",
       "8    0.000000    0.000000   0.000000   0.000000    ...      45.000000   \n",
       "9    0.000000    0.000000   0.000000   0.000000    ...       0.000000   \n",
       "\n",
       "         171        172        173        174        175        176  \\\n",
       "0  60.450001  60.749001  61.161999  61.161999  61.161999  63.161999   \n",
       "1   0.000000   0.000000   0.000000   0.000000   0.000000   0.000000   \n",
       "2   0.000000   0.000000   0.000000   0.000000   0.000000   0.000000   \n",
       "3  48.000000  54.000000  61.000000  69.000000  78.000000  84.000000   \n",
       "4  32.000000  37.000000  38.000000  42.000000  49.000000  43.000000   \n",
       "5  49.308998  42.380001  37.380001  43.308998  44.308998  39.032001   \n",
       "6   0.000000   0.000000   0.000000   0.000000   0.000000   0.000000   \n",
       "7   0.000000   0.000000   0.000000   0.000000   0.000000   0.000000   \n",
       "8  47.000000  48.000000  48.000000  48.000000  48.000000  42.000000   \n",
       "9  28.000000  30.000000  33.000000  33.000000  34.000000  37.000000   \n",
       "\n",
       "         177        178        179  \n",
       "0  64.162003  65.162003  66.047997  \n",
       "1   0.000000   0.000000   0.000000  \n",
       "2   0.000000   0.000000   0.000000  \n",
       "3  87.000000  91.000000  96.000000  \n",
       "4  33.000000  30.000000  35.000000  \n",
       "5  45.032001  43.988998  39.988998  \n",
       "6   0.000000   0.000000   0.000000  \n",
       "7   0.000000   0.000000   0.000000  \n",
       "8  28.000000  21.000000  24.000000  \n",
       "9  39.000000  41.000000  41.000000  \n",
       "\n",
       "[10 rows x 80 columns]"
      ]
     },
     "execution_count": 40,
     "metadata": {},
     "output_type": "execute_result"
    }
   ],
   "source": [
    "X_train.iloc[0:10,100:180]"
   ]
  },
  {
   "cell_type": "code",
   "execution_count": 24,
   "metadata": {
    "collapsed": true
   },
   "outputs": [],
   "source": [
    "image_path = os.path.join(os.path.join(data_dir, emotion), img_name)\n",
    "img = imread(image_path, flatten=True)\n",
    "img = img.astype('float32')"
   ]
  },
  {
   "cell_type": "code",
   "execution_count": 29,
   "metadata": {
    "collapsed": false
   },
   "outputs": [],
   "source": [
    "img2= imrotate(img,10)\n",
    "        "
   ]
  },
  {
   "cell_type": "code",
   "execution_count": 35,
   "metadata": {
    "collapsed": false
   },
   "outputs": [
    {
     "data": {
      "text/plain": [
       "array([[ 0,  0,  0,  0,  0,  0,  0,  0,  0],\n",
       "       [ 0,  0,  0,  0,  0,  0,  0,  0,  0],\n",
       "       [ 0,  0,  0,  0,  0,  0,  0,  0,  0],\n",
       "       [ 0,  0,  0,  0,  0,  0,  0,  0,  0],\n",
       "       [ 0,  0,  0,  0,  0,  0,  0,  0,  0],\n",
       "       [ 0,  0,  0,  0,  0,  0,  0,  0,  0],\n",
       "       [ 0,  0,  0,  0,  0,  0,  0,  0,  0],\n",
       "       [ 0,  0,  0,  0,  0,  0,  0,  0,  0],\n",
       "       [ 0,  0,  0,  0,  0,  0,  0,  0,  0],\n",
       "       [ 0,  0,  0,  2,  3,  5, 18, 35, 50],\n",
       "       [ 1,  1,  1,  2,  3,  5, 17, 37, 52],\n",
       "       [ 1,  1,  3,  5,  5,  7, 19, 38, 51],\n",
       "       [ 1,  1,  3,  5,  3,  5, 16, 36, 51],\n",
       "       [ 1,  1,  2,  3,  2,  3, 16, 39, 56],\n",
       "       [ 1,  1,  1,  3,  2,  2, 15, 41, 58],\n",
       "       [ 1,  1,  2,  3,  3,  3, 12, 35, 56],\n",
       "       [ 1,  1,  2,  3,  4,  4,  9, 30, 53],\n",
       "       [ 1,  1,  1,  3,  4,  3,  7, 25, 49],\n",
       "       [ 1,  1,  1,  2,  4,  3,  7, 24, 45],\n",
       "       [ 1,  1,  1,  2,  3,  3,  5, 17, 37],\n",
       "       [ 1,  2,  2,  3,  5,  2,  2, 10, 31],\n",
       "       [ 2,  2,  2,  2,  5,  2,  2,  8, 26],\n",
       "       [ 2,  1,  1,  2,  4,  3,  2,  5, 17],\n",
       "       [ 1,  1,  1,  2,  4,  3,  2,  4, 14],\n",
       "       [ 1,  1,  1,  1,  3,  4,  4,  4, 11],\n",
       "       [ 1,  1,  1,  1,  2,  3,  2,  3,  9],\n",
       "       [ 1,  1,  1,  1,  2,  4,  3,  3,  7],\n",
       "       [ 1,  1,  1,  1,  2,  2,  2,  5,  6],\n",
       "       [ 1,  1,  1,  1,  1,  2,  2,  5,  9],\n",
       "       [ 1,  1,  1,  1,  1,  2,  2,  3,  5],\n",
       "       [ 1,  1,  1,  1,  1,  2,  3,  3,  5],\n",
       "       [ 1,  1,  1,  1,  1,  2,  1,  5,  7],\n",
       "       [ 1,  1,  1,  1,  1,  2,  2,  4,  6],\n",
       "       [ 2,  1,  1,  1,  1,  2,  1,  4,  9],\n",
       "       [ 1,  1,  1,  1,  1,  2,  1,  2,  5],\n",
       "       [ 1,  1,  1,  1,  1,  2,  3,  2,  3],\n",
       "       [ 1,  1,  1,  1,  1,  2,  3,  1,  3],\n",
       "       [ 1,  1,  1,  1,  1,  1,  2,  4,  5],\n",
       "       [ 1,  1,  1,  1,  1,  1,  1,  4,  5]], dtype=uint8)"
      ]
     },
     "execution_count": 35,
     "metadata": {},
     "output_type": "execute_result"
    }
   ],
   "source": [
    "img2[1:40,1:10]"
   ]
  },
  {
   "cell_type": "code",
   "execution_count": 30,
   "metadata": {
    "collapsed": true
   },
   "outputs": [],
   "source": [
    "pylab.imshow(img2, cmap='gray')\n",
    "pylab.axis('off')\n",
    "pylab.show()"
   ]
  },
  {
   "cell_type": "code",
   "execution_count": null,
   "metadata": {
    "collapsed": true
   },
   "outputs": [],
   "source": []
  }
 ],
 "metadata": {
  "kernelspec": {
   "display_name": "Python 2",
   "language": "python",
   "name": "python2"
  },
  "language_info": {
   "codemirror_mode": {
    "name": "ipython",
    "version": 2
   },
   "file_extension": ".py",
   "mimetype": "text/x-python",
   "name": "python",
   "nbconvert_exporter": "python",
   "pygments_lexer": "ipython2",
   "version": "2.7.11"
  }
 },
 "nbformat": 4,
 "nbformat_minor": 0
}
