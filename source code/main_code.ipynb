{
 "cells": [
  {
   "cell_type": "code",
   "execution_count": 29,
   "metadata": {
    "collapsed": false
   },
   "outputs": [
    {
     "data": {
      "text/plain": [
       "'from sklearn.preprocessing import MinMaxScaler\\nX = MinMaxScaler().fit_transform(train_x)'"
      ]
     },
     "execution_count": 29,
     "metadata": {},
     "output_type": "execute_result"
    }
   ],
   "source": [
    "import os\n",
    "import numpy as np\n",
    "import pandas as pd\n",
    "from scipy.misc import imread\n",
    "from sklearn.metrics import accuracy_score\n",
    "\n",
    "import theano\n",
    "import theano.tensor as T\n",
    "\n",
    "import pylab\n",
    "\n",
    "root_dir = os.path.abspath('../..')\n",
    "proj_dir = os.path.join(root_dir, 'project')\n",
    "data_dir= os.path.join(proj_dir, \"train\", \"Train_Aligned_Faces\")\n",
    "\n",
    "emotions=\"Angry, Disgust, Fear, Happy, Neutral, Sad, Surprise\"\n",
    "emotions=emotions.split(',')\n",
    "emotions=[e.replace(\" \",\"\") for e in emotions]\n",
    "\n",
    "temp1 = []\n",
    "temp2 = []\n",
    "for ind,emotion in enumerate(emotions):\n",
    "    temp=[]\n",
    "    for files in os.walk(os.path.join(data_dir, emotion)):\n",
    "        for filenames in files:\n",
    "            temp.append(filenames)\n",
    "    files=temp[2]\n",
    "    for img_name in files:\n",
    "        #print(img_name)\n",
    "        image_path = os.path.join(os.path.join(data_dir, emotion), img_name)\n",
    "        img = imread(image_path, flatten=True)\n",
    "        img = img.astype('float32')\n",
    "        img = np.reshape(img,(181*143,))\n",
    "        temp1.append(img)\n",
    "        temp2.append(ind)\n",
    "\n",
    "train_x = np.stack(temp1)\n",
    "train_y = np.stack(temp2)\n",
    "\n",
    "\"\"\"from sklearn.preprocessing import MinMaxScaler\n",
    "X = MinMaxScaler().fit_transform(train_x)\"\"\""
   ]
  },
  {
   "cell_type": "code",
   "execution_count": 30,
   "metadata": {
    "collapsed": false
   },
   "outputs": [
    {
     "data": {
      "text/plain": [
       "(891, 25883)"
      ]
     },
     "execution_count": 30,
     "metadata": {},
     "output_type": "execute_result"
    }
   ],
   "source": [
    "train_x.shape"
   ]
  },
  {
   "cell_type": "code",
   "execution_count": 31,
   "metadata": {
    "collapsed": false
   },
   "outputs": [
    {
     "data": {
      "text/plain": [
       "'X_train.to_csv(\"X_train.csv\",index=False,index_label=False,header=False)\\nY_train.to_csv(\"Y_train.csv\",index=False,index_label=False,header=False)'"
      ]
     },
     "execution_count": 31,
     "metadata": {},
     "output_type": "execute_result"
    }
   ],
   "source": [
    "X_train=pd.DataFrame(train_x)\n",
    "Y_train=pd.DataFrame(train_y)\n",
    "\"\"\"X_train.to_csv(\"X_train.csv\",index=False,index_label=False,header=False)\n",
    "Y_train.to_csv(\"Y_train.csv\",index=False,index_label=False,header=False)\"\"\""
   ]
  },
  {
   "cell_type": "code",
   "execution_count": 32,
   "metadata": {
    "collapsed": false
   },
   "outputs": [
    {
     "data": {
      "text/html": [
       "<div>\n",
       "<table border=\"1\" class=\"dataframe\">\n",
       "  <thead>\n",
       "    <tr style=\"text-align: right;\">\n",
       "      <th></th>\n",
       "      <th>0</th>\n",
       "      <th>1</th>\n",
       "      <th>2</th>\n",
       "      <th>3</th>\n",
       "      <th>4</th>\n",
       "      <th>5</th>\n",
       "      <th>6</th>\n",
       "      <th>7</th>\n",
       "      <th>8</th>\n",
       "      <th>9</th>\n",
       "      <th>...</th>\n",
       "      <th>25873</th>\n",
       "      <th>25874</th>\n",
       "      <th>25875</th>\n",
       "      <th>25876</th>\n",
       "      <th>25877</th>\n",
       "      <th>25878</th>\n",
       "      <th>25879</th>\n",
       "      <th>25880</th>\n",
       "      <th>25881</th>\n",
       "      <th>25882</th>\n",
       "    </tr>\n",
       "  </thead>\n",
       "  <tbody>\n",
       "    <tr>\n",
       "      <th>0</th>\n",
       "      <td>34.050999</td>\n",
       "      <td>33.050999</td>\n",
       "      <td>34.050999</td>\n",
       "      <td>36.751999</td>\n",
       "      <td>38.268002</td>\n",
       "      <td>37.268002</td>\n",
       "      <td>28.587999</td>\n",
       "      <td>19.587999</td>\n",
       "      <td>21.886999</td>\n",
       "      <td>24.186001</td>\n",
       "      <td>...</td>\n",
       "      <td>13.912000</td>\n",
       "      <td>13.738000</td>\n",
       "      <td>14.738000</td>\n",
       "      <td>14.396000</td>\n",
       "      <td>15.869000</td>\n",
       "      <td>16.478001</td>\n",
       "      <td>16.799000</td>\n",
       "      <td>22.870001</td>\n",
       "      <td>37.196999</td>\n",
       "      <td>54.495998</td>\n",
       "    </tr>\n",
       "    <tr>\n",
       "      <th>1</th>\n",
       "      <td>18.171000</td>\n",
       "      <td>16.181999</td>\n",
       "      <td>16.181999</td>\n",
       "      <td>21.139000</td>\n",
       "      <td>24.025000</td>\n",
       "      <td>28.395000</td>\n",
       "      <td>31.395000</td>\n",
       "      <td>29.395000</td>\n",
       "      <td>29.395000</td>\n",
       "      <td>30.591000</td>\n",
       "      <td>...</td>\n",
       "      <td>11.947000</td>\n",
       "      <td>10.784000</td>\n",
       "      <td>11.197000</td>\n",
       "      <td>7.349000</td>\n",
       "      <td>8.224000</td>\n",
       "      <td>7.534000</td>\n",
       "      <td>8.947000</td>\n",
       "      <td>13.648000</td>\n",
       "      <td>13.235000</td>\n",
       "      <td>10.730000</td>\n",
       "    </tr>\n",
       "    <tr>\n",
       "      <th>2</th>\n",
       "      <td>50.265999</td>\n",
       "      <td>50.380001</td>\n",
       "      <td>52.152000</td>\n",
       "      <td>53.152000</td>\n",
       "      <td>52.152000</td>\n",
       "      <td>52.152000</td>\n",
       "      <td>52.109001</td>\n",
       "      <td>51.293999</td>\n",
       "      <td>51.180000</td>\n",
       "      <td>51.180000</td>\n",
       "      <td>...</td>\n",
       "      <td>164.694000</td>\n",
       "      <td>162.992996</td>\n",
       "      <td>160.705002</td>\n",
       "      <td>161.705002</td>\n",
       "      <td>164.292007</td>\n",
       "      <td>165.406006</td>\n",
       "      <td>166.220993</td>\n",
       "      <td>166.335007</td>\n",
       "      <td>165.035995</td>\n",
       "      <td>165.035995</td>\n",
       "    </tr>\n",
       "    <tr>\n",
       "      <th>3</th>\n",
       "      <td>15.485000</td>\n",
       "      <td>18.186001</td>\n",
       "      <td>20.186001</td>\n",
       "      <td>23.186001</td>\n",
       "      <td>25.556000</td>\n",
       "      <td>27.812000</td>\n",
       "      <td>30.296000</td>\n",
       "      <td>32.296001</td>\n",
       "      <td>33.997002</td>\n",
       "      <td>35.595001</td>\n",
       "      <td>...</td>\n",
       "      <td>58.598000</td>\n",
       "      <td>58.712002</td>\n",
       "      <td>57.712002</td>\n",
       "      <td>57.712002</td>\n",
       "      <td>57.412998</td>\n",
       "      <td>56.929001</td>\n",
       "      <td>56.630001</td>\n",
       "      <td>55.743999</td>\n",
       "      <td>55.743999</td>\n",
       "      <td>54.743999</td>\n",
       "    </tr>\n",
       "    <tr>\n",
       "      <th>4</th>\n",
       "      <td>124.716003</td>\n",
       "      <td>116.014999</td>\n",
       "      <td>117.014999</td>\n",
       "      <td>121.014999</td>\n",
       "      <td>120.901001</td>\n",
       "      <td>120.787003</td>\n",
       "      <td>110.787003</td>\n",
       "      <td>107.672997</td>\n",
       "      <td>125.619003</td>\n",
       "      <td>149.091995</td>\n",
       "      <td>...</td>\n",
       "      <td>29.492001</td>\n",
       "      <td>30.090000</td>\n",
       "      <td>29.503000</td>\n",
       "      <td>29.503000</td>\n",
       "      <td>29.802000</td>\n",
       "      <td>29.987000</td>\n",
       "      <td>29.987000</td>\n",
       "      <td>29.987000</td>\n",
       "      <td>30.987000</td>\n",
       "      <td>31.987000</td>\n",
       "    </tr>\n",
       "  </tbody>\n",
       "</table>\n",
       "<p>5 rows × 25883 columns</p>\n",
       "</div>"
      ],
      "text/plain": [
       "        0           1           2           3           4           5      \\\n",
       "0   34.050999   33.050999   34.050999   36.751999   38.268002   37.268002   \n",
       "1   18.171000   16.181999   16.181999   21.139000   24.025000   28.395000   \n",
       "2   50.265999   50.380001   52.152000   53.152000   52.152000   52.152000   \n",
       "3   15.485000   18.186001   20.186001   23.186001   25.556000   27.812000   \n",
       "4  124.716003  116.014999  117.014999  121.014999  120.901001  120.787003   \n",
       "\n",
       "        6           7           8           9         ...           25873  \\\n",
       "0   28.587999   19.587999   21.886999   24.186001     ...       13.912000   \n",
       "1   31.395000   29.395000   29.395000   30.591000     ...       11.947000   \n",
       "2   52.109001   51.293999   51.180000   51.180000     ...      164.694000   \n",
       "3   30.296000   32.296001   33.997002   35.595001     ...       58.598000   \n",
       "4  110.787003  107.672997  125.619003  149.091995     ...       29.492001   \n",
       "\n",
       "        25874       25875       25876       25877       25878       25879  \\\n",
       "0   13.738000   14.738000   14.396000   15.869000   16.478001   16.799000   \n",
       "1   10.784000   11.197000    7.349000    8.224000    7.534000    8.947000   \n",
       "2  162.992996  160.705002  161.705002  164.292007  165.406006  166.220993   \n",
       "3   58.712002   57.712002   57.712002   57.412998   56.929001   56.630001   \n",
       "4   30.090000   29.503000   29.503000   29.802000   29.987000   29.987000   \n",
       "\n",
       "        25880       25881       25882  \n",
       "0   22.870001   37.196999   54.495998  \n",
       "1   13.648000   13.235000   10.730000  \n",
       "2  166.335007  165.035995  165.035995  \n",
       "3   55.743999   55.743999   54.743999  \n",
       "4   29.987000   30.987000   31.987000  \n",
       "\n",
       "[5 rows x 25883 columns]"
      ]
     },
     "execution_count": 32,
     "metadata": {},
     "output_type": "execute_result"
    }
   ],
   "source": [
    "X_train.head()"
   ]
  },
  {
   "cell_type": "code",
   "execution_count": 10,
   "metadata": {
    "collapsed": true
   },
   "outputs": [],
   "source": [
    "from random import shuffle\n",
    "\n",
    "shuffle(training_data)\n",
    "\n",
    "trainx[\"predict\"]=trainy\n",
    "\n",
    "trainx.head()\n",
    "\n",
    "train_try=trainx.iloc[np.random.permutation(len(train_x))]\n",
    "\n",
    "train_try.head()\n",
    "\n",
    "y_try=train_try.as_matrix(train_try.columns.values[-1:])\n",
    "\n",
    "y_try=np.reshape(y_try,(891,))\n",
    "\n",
    "x_try=train_try.as_matrix(train_try.columns.values[:-1])\n",
    "\n",
    "train_try.columns.values[-1:]\n",
    "X_train=pd.DataFrame(train_x)\n",
    "train_try[train_try.columns.values[:-1]].to_csv(\"shuffled_X.csv\",index=False,index_label=False,header=False)\n",
    "train_try[train_try.columns.values[-1:]].to_csv(\"shuffled_Y.csv\",index=False,index_label=False,header=False)"
   ]
  },
  {
   "cell_type": "code",
   "execution_count": 74,
   "metadata": {
    "collapsed": false,
    "scrolled": true
   },
   "outputs": [],
   "source": [
    "temp_x=pd.DataFrame(train_x)\n",
    "temp_x.to_csv(\"Normalized_train_reduced.csv\",index=False,index_label=False,header=False)\n",
    "\n",
    "temp_x.shape\n",
    "\n",
    "def vectorized_result(j):\n",
    "    e = np.zeros((7, 1))\n",
    "    e[j] = 1.0\n",
    "    return e\n",
    "\n",
    "train_results = [vectorized_result(y) for y in train_y]\n",
    "\n",
    "training_data = zip(train_x, train_results)"
   ]
  },
  {
   "cell_type": "code",
   "execution_count": 77,
   "metadata": {
    "collapsed": false,
    "scrolled": true
   },
   "outputs": [
    {
     "ename": "KeyboardInterrupt",
     "evalue": "",
     "output_type": "error",
     "traceback": [
      "\u001b[1;31m---------------------------------------------------------------------------\u001b[0m",
      "\u001b[1;31mKeyboardInterrupt\u001b[0m                         Traceback (most recent call last)",
      "\u001b[1;32m<ipython-input-77-e4d75ccb584f>\u001b[0m in \u001b[0;36m<module>\u001b[1;34m()\u001b[0m\n\u001b[0;32m      6\u001b[0m \u001b[0mnet\u001b[0m \u001b[1;33m=\u001b[0m \u001b[0mnetwork2\u001b[0m\u001b[1;33m.\u001b[0m\u001b[0mNetwork\u001b[0m\u001b[1;33m(\u001b[0m\u001b[0msize\u001b[0m\u001b[1;33m)\u001b[0m\u001b[1;33m\u001b[0m\u001b[0m\n\u001b[0;32m      7\u001b[0m \u001b[0mt1\u001b[0m\u001b[1;33m=\u001b[0m\u001b[0mdatetime\u001b[0m\u001b[1;33m.\u001b[0m\u001b[0mdatetime\u001b[0m\u001b[1;33m.\u001b[0m\u001b[0mnow\u001b[0m\u001b[1;33m(\u001b[0m\u001b[1;33m)\u001b[0m\u001b[1;33m\u001b[0m\u001b[0m\n\u001b[1;32m----> 8\u001b[1;33m \u001b[1;32mprint\u001b[0m\u001b[1;33m(\u001b[0m\u001b[0mnet\u001b[0m\u001b[1;33m.\u001b[0m\u001b[0mSGD\u001b[0m\u001b[1;33m(\u001b[0m\u001b[0mtraining_data\u001b[0m\u001b[1;33m,\u001b[0m\u001b[1;36m50\u001b[0m\u001b[1;33m,\u001b[0m\u001b[0mmini_batch_size\u001b[0m\u001b[1;33m,\u001b[0m \u001b[1;36m0.05\u001b[0m\u001b[1;33m,\u001b[0m\u001b[0mlmbda\u001b[0m \u001b[1;33m=\u001b[0m\u001b[1;36m0\u001b[0m\u001b[1;33m,\u001b[0m\u001b[0mmonitor_training_accuracy\u001b[0m\u001b[1;33m=\u001b[0m\u001b[0mTrue\u001b[0m\u001b[1;33m)\u001b[0m\u001b[1;33m[\u001b[0m\u001b[1;36m3\u001b[0m\u001b[1;33m]\u001b[0m\u001b[1;33m)\u001b[0m\u001b[1;33m\u001b[0m\u001b[0m\n\u001b[0m\u001b[0;32m      9\u001b[0m \u001b[0mt2\u001b[0m\u001b[1;33m=\u001b[0m\u001b[0mdatetime\u001b[0m\u001b[1;33m.\u001b[0m\u001b[0mdatetime\u001b[0m\u001b[1;33m.\u001b[0m\u001b[0mnow\u001b[0m\u001b[1;33m(\u001b[0m\u001b[1;33m)\u001b[0m\u001b[1;33m\u001b[0m\u001b[0m\n\u001b[0;32m     10\u001b[0m \u001b[1;32mprint\u001b[0m\u001b[1;33m(\u001b[0m\u001b[0mt2\u001b[0m\u001b[1;33m-\u001b[0m\u001b[0mt1\u001b[0m\u001b[1;33m)\u001b[0m\u001b[1;33m\u001b[0m\u001b[0m\n",
      "\u001b[1;32m/home/abhinav/Desktop/5th sem/mlt/project/Untitled Folder/network2.pyc\u001b[0m in \u001b[0;36mSGD\u001b[1;34m(self, training_data, epochs, mini_batch_size, eta, lmbda, evaluation_data, monitor_evaluation_cost, monitor_evaluation_accuracy, monitor_training_cost, monitor_training_accuracy)\u001b[0m\n\u001b[0;32m    164\u001b[0m             \u001b[1;32mfor\u001b[0m \u001b[0mmini_batch\u001b[0m \u001b[1;32min\u001b[0m \u001b[0mmini_batches\u001b[0m\u001b[1;33m:\u001b[0m\u001b[1;33m\u001b[0m\u001b[0m\n\u001b[0;32m    165\u001b[0m                 self.update_mini_batch(\n\u001b[1;32m--> 166\u001b[1;33m                     mini_batch, eta, lmbda, len(training_data))\n\u001b[0m\u001b[0;32m    167\u001b[0m             \u001b[1;31m#print \"Epoch %s training complete\" % j\u001b[0m\u001b[1;33m\u001b[0m\u001b[1;33m\u001b[0m\u001b[0m\n\u001b[0;32m    168\u001b[0m             \u001b[1;32mif\u001b[0m \u001b[0mmonitor_training_cost\u001b[0m\u001b[1;33m:\u001b[0m\u001b[1;33m\u001b[0m\u001b[0m\n",
      "\u001b[1;32m/home/abhinav/Desktop/5th sem/mlt/project/Untitled Folder/network2.pyc\u001b[0m in \u001b[0;36mupdate_mini_batch\u001b[1;34m(self, mini_batch, eta, lmbda, n)\u001b[0m\n\u001b[0;32m    200\u001b[0m         \u001b[0mnabla_w\u001b[0m \u001b[1;33m=\u001b[0m \u001b[1;33m[\u001b[0m\u001b[0mnp\u001b[0m\u001b[1;33m.\u001b[0m\u001b[0mzeros\u001b[0m\u001b[1;33m(\u001b[0m\u001b[0mw\u001b[0m\u001b[1;33m.\u001b[0m\u001b[0mshape\u001b[0m\u001b[1;33m)\u001b[0m \u001b[1;32mfor\u001b[0m \u001b[0mw\u001b[0m \u001b[1;32min\u001b[0m \u001b[0mself\u001b[0m\u001b[1;33m.\u001b[0m\u001b[0mweights\u001b[0m\u001b[1;33m]\u001b[0m\u001b[1;33m\u001b[0m\u001b[0m\n\u001b[0;32m    201\u001b[0m         \u001b[1;32mfor\u001b[0m \u001b[0mx\u001b[0m\u001b[1;33m,\u001b[0m \u001b[0my\u001b[0m \u001b[1;32min\u001b[0m \u001b[0mmini_batch\u001b[0m\u001b[1;33m:\u001b[0m\u001b[1;33m\u001b[0m\u001b[0m\n\u001b[1;32m--> 202\u001b[1;33m             \u001b[0mdelta_nabla_b\u001b[0m\u001b[1;33m,\u001b[0m \u001b[0mdelta_nabla_w\u001b[0m \u001b[1;33m=\u001b[0m \u001b[0mself\u001b[0m\u001b[1;33m.\u001b[0m\u001b[0mbackprop\u001b[0m\u001b[1;33m(\u001b[0m\u001b[0mx\u001b[0m\u001b[1;33m,\u001b[0m \u001b[0my\u001b[0m\u001b[1;33m)\u001b[0m\u001b[1;33m\u001b[0m\u001b[0m\n\u001b[0m\u001b[0;32m    203\u001b[0m             \u001b[0mnabla_b\u001b[0m \u001b[1;33m=\u001b[0m \u001b[1;33m[\u001b[0m\u001b[0mnb\u001b[0m\u001b[1;33m+\u001b[0m\u001b[0mdnb\u001b[0m \u001b[1;32mfor\u001b[0m \u001b[0mnb\u001b[0m\u001b[1;33m,\u001b[0m \u001b[0mdnb\u001b[0m \u001b[1;32min\u001b[0m \u001b[0mzip\u001b[0m\u001b[1;33m(\u001b[0m\u001b[0mnabla_b\u001b[0m\u001b[1;33m,\u001b[0m \u001b[0mdelta_nabla_b\u001b[0m\u001b[1;33m)\u001b[0m\u001b[1;33m]\u001b[0m\u001b[1;33m\u001b[0m\u001b[0m\n\u001b[0;32m    204\u001b[0m             \u001b[0mnabla_w\u001b[0m \u001b[1;33m=\u001b[0m \u001b[1;33m[\u001b[0m\u001b[0mnw\u001b[0m\u001b[1;33m+\u001b[0m\u001b[0mdnw\u001b[0m \u001b[1;32mfor\u001b[0m \u001b[0mnw\u001b[0m\u001b[1;33m,\u001b[0m \u001b[0mdnw\u001b[0m \u001b[1;32min\u001b[0m \u001b[0mzip\u001b[0m\u001b[1;33m(\u001b[0m\u001b[0mnabla_w\u001b[0m\u001b[1;33m,\u001b[0m \u001b[0mdelta_nabla_w\u001b[0m\u001b[1;33m)\u001b[0m\u001b[1;33m]\u001b[0m\u001b[1;33m\u001b[0m\u001b[0m\n",
      "\u001b[1;32m/home/abhinav/Desktop/5th sem/mlt/project/Untitled Folder/network2.pyc\u001b[0m in \u001b[0;36mbackprop\u001b[1;34m(self, x, y)\u001b[0m\n\u001b[0;32m    239\u001b[0m             \u001b[0mdelta\u001b[0m \u001b[1;33m=\u001b[0m \u001b[0mnp\u001b[0m\u001b[1;33m.\u001b[0m\u001b[0mdot\u001b[0m\u001b[1;33m(\u001b[0m\u001b[0mself\u001b[0m\u001b[1;33m.\u001b[0m\u001b[0mweights\u001b[0m\u001b[1;33m[\u001b[0m\u001b[1;33m-\u001b[0m\u001b[0ml\u001b[0m\u001b[1;33m+\u001b[0m\u001b[1;36m1\u001b[0m\u001b[1;33m]\u001b[0m\u001b[1;33m.\u001b[0m\u001b[0mtranspose\u001b[0m\u001b[1;33m(\u001b[0m\u001b[1;33m)\u001b[0m\u001b[1;33m,\u001b[0m \u001b[0mdelta\u001b[0m\u001b[1;33m)\u001b[0m \u001b[1;33m*\u001b[0m \u001b[0msp\u001b[0m\u001b[1;33m\u001b[0m\u001b[0m\n\u001b[0;32m    240\u001b[0m             \u001b[0mnabla_b\u001b[0m\u001b[1;33m[\u001b[0m\u001b[1;33m-\u001b[0m\u001b[0ml\u001b[0m\u001b[1;33m]\u001b[0m \u001b[1;33m=\u001b[0m \u001b[0mdelta\u001b[0m\u001b[1;33m\u001b[0m\u001b[0m\n\u001b[1;32m--> 241\u001b[1;33m             \u001b[0mnabla_w\u001b[0m\u001b[1;33m[\u001b[0m\u001b[1;33m-\u001b[0m\u001b[0ml\u001b[0m\u001b[1;33m]\u001b[0m \u001b[1;33m=\u001b[0m \u001b[0mnp\u001b[0m\u001b[1;33m.\u001b[0m\u001b[0mdot\u001b[0m\u001b[1;33m(\u001b[0m\u001b[0mdelta\u001b[0m\u001b[1;33m,\u001b[0m \u001b[0mactivations\u001b[0m\u001b[1;33m[\u001b[0m\u001b[1;33m-\u001b[0m\u001b[0ml\u001b[0m\u001b[1;33m-\u001b[0m\u001b[1;36m1\u001b[0m\u001b[1;33m]\u001b[0m\u001b[1;33m.\u001b[0m\u001b[0mtranspose\u001b[0m\u001b[1;33m(\u001b[0m\u001b[1;33m)\u001b[0m\u001b[1;33m)\u001b[0m\u001b[1;33m\u001b[0m\u001b[0m\n\u001b[0m\u001b[0;32m    242\u001b[0m         \u001b[1;32mreturn\u001b[0m \u001b[1;33m(\u001b[0m\u001b[0mnabla_b\u001b[0m\u001b[1;33m,\u001b[0m \u001b[0mnabla_w\u001b[0m\u001b[1;33m)\u001b[0m\u001b[1;33m\u001b[0m\u001b[0m\n\u001b[0;32m    243\u001b[0m \u001b[1;33m\u001b[0m\u001b[0m\n",
      "\u001b[1;31mKeyboardInterrupt\u001b[0m: "
     ]
    }
   ],
   "source": [
    "import network2\n",
    "mini_batch_size=10\n",
    "size=[9180,1000,100,7]\n",
    "#k=[20000,250]\n",
    "import datetime\n",
    "net = network2.Network(size)\n",
    "t1=datetime.datetime.now()\n",
    "print(net.SGD(training_data,50,mini_batch_size, 0.05,lmbda =0,monitor_training_accuracy=True)[3])\n",
    "t2=datetime.datetime.now()\n",
    "print(t2-t1)"
   ]
  },
  {
   "cell_type": "code",
   "execution_count": 60,
   "metadata": {
    "collapsed": true
   },
   "outputs": [],
   "source": [
    "img = imread(image_path, flatten=True)\n",
    "img = img.astype('float32')\n",
    "\n",
    "from scipy.misc import imresize\n",
    "img= imresize(img, 0.6)\n",
    "\n",
    "pylab.imshow(img, cmap='gray')\n",
    "pylab.axis('off')\n",
    "pylab.show()\n"
   ]
  },
  {
   "cell_type": "code",
   "execution_count": null,
   "metadata": {
    "collapsed": true
   },
   "outputs": [],
   "source": [
    "net = Network([\n",
    "        FullyConnectedLayer(n_in=25883, n_out=5000),\n",
    "        FullyConnectedLayer(n_in=5000, n_out=1000),\n",
    "        FullyConnectedLayer(n_in=1000, n_out=100),\n",
    "        SoftmaxLayer(n_in=1000, n_out=7)], mini_batch_size)\n",
    "\n",
    "net.SGD(training_data, 50, mini_batch_size, eta, training_data, training_data,lmbda=0.0)"
   ]
  },
  {
   "cell_type": "code",
   "execution_count": null,
   "metadata": {
    "collapsed": false,
    "scrolled": true
   },
   "outputs": [],
   "source": [
    "net = Network([\n",
    "        ConvPoolLayer(image_shape=(mini_batch_size, 1, 181, 143), \n",
    "                      filter_shape=(10, 1, 6, 6), \n",
    "                      poolsize=(2, 2), \n",
    "                      activation_fn=ReLU),\n",
    "        ConvPoolLayer(image_shape=(mini_batch_size, 10, 88, 69), \n",
    "                      filter_shape=(20, 10, 5, 6), \n",
    "                      poolsize=(2, 2), \n",
    "                      activation_fn=ReLU),\n",
    "        FullyConnectedLayer(\n",
    "            n_in=20*42*32, n_out=2000, activation_fn=ReLU, p_dropout=0.5),\n",
    "        FullyConnectedLayer(\n",
    "            n_in=2000, n_out=1000, activation_fn=ReLU, p_dropout=0.5),\n",
    "        SoftmaxLayer(n_in=1000, n_out=7, p_dropout=0.5)], \n",
    "        mini_batch_size)\n",
    "net.SGD(training_data, 100, mini_batch_size, eta, training_data, training_data,lmbda=0.0)"
   ]
  },
  {
   "cell_type": "code",
   "execution_count": null,
   "metadata": {
    "collapsed": false,
    "scrolled": true
   },
   "outputs": [],
   "source": [
    "net = Network([\n",
    "        ConvPoolLayer(image_shape=(mini_batch_size, 1, 181, 143), \n",
    "                      filter_shape=(20, 1, 6, 6), \n",
    "                      poolsize=(2, 2)),\n",
    "        FullyConnectedLayer(n_in=20*88*69, n_out=100),\n",
    "        SoftmaxLayer(n_in=100, n_out=7)], mini_batch_size)\n",
    "net.SGD(training_data, 50, mini_batch_size, eta, training_data, training_data,lmbda=0.0)"
   ]
  },
  {
   "cell_type": "code",
   "execution_count": 12,
   "metadata": {
    "collapsed": true
   },
   "outputs": [],
   "source": [
    "param_save=[T.cast(param,\"float32\").eval() for param in net.params]"
   ]
  },
  {
   "cell_type": "code",
   "execution_count": 17,
   "metadata": {
    "collapsed": false
   },
   "outputs": [],
   "source": [
    "param_restore=[theano.shared(param,borrow=True) for param in param_save]"
   ]
  },
  {
   "cell_type": "code",
   "execution_count": 18,
   "metadata": {
    "collapsed": false
   },
   "outputs": [
    {
     "data": {
      "text/plain": [
       "theano.sandbox.cuda.var.CudaNdarraySharedVariable"
      ]
     },
     "execution_count": 18,
     "metadata": {},
     "output_type": "execute_result"
    }
   ],
   "source": [
    "validation_accuracy = np.mean(\n",
    "                        [validate_mb_accuracy(j) for j in xrange(num_validation_batches)])"
   ]
  },
  {
   "cell_type": "code",
   "execution_count": null,
   "metadata": {
    "collapsed": true
   },
   "outputs": [],
   "source": []
  },
  {
   "cell_type": "code",
   "execution_count": 63,
   "metadata": {
    "collapsed": false
   },
   "outputs": [
    {
     "name": "stderr",
     "output_type": "stream",
     "text": [
      "/home/abhinav/miniconda3/envs/py27/lib/python2.7/site-packages/sklearn/utils/validation.py:420: DataConversionWarning: Data with input dtype uint8 was converted to float64 by MinMaxScaler.\n",
      "  if n_features < ensure_min_features:\n"
     ]
    }
   ],
   "source": [
    "temp1 = []\n",
    "for ind,emotion in enumerate(emotions):\n",
    "    temp=[]\n",
    "    for files in os.walk(os.path.join(data_dir, emotion)):\n",
    "        for filenames in files:\n",
    "            temp.append(filenames)\n",
    "    files=temp[2]\n",
    "    for img_name in files:\n",
    "        #print(img_name)\n",
    "        image_path = os.path.join(os.path.join(data_dir, emotion), img_name)\n",
    "        img = imread(image_path, flatten=True)\n",
    "        img = img.astype('float32')\n",
    "        img= imresize(img, 0.6)\n",
    "        img = np.reshape(img,(img.shape[0]*img.shape[1],))\n",
    "        temp1.append(img)\n",
    "\n",
    "train_x = np.stack(temp1)\n",
    "\n",
    "from sklearn.preprocessing import MinMaxScaler\n",
    "train_x = MinMaxScaler().fit_transform(train_x)"
   ]
  },
  {
   "cell_type": "code",
   "execution_count": 15,
   "metadata": {
    "collapsed": false
   },
   "outputs": [
    {
     "data": {
      "text/plain": [
       "numpy.ndarray"
      ]
     },
     "execution_count": 15,
     "metadata": {},
     "output_type": "execute_result"
    }
   ],
   "source": [
    "import gzip\n",
    "import cPickle\n",
    "filename=\"/home/abhinav/MNIST/data/mnist.pkl.gz\"\n",
    "f = gzip.open(filename, 'rb')\n",
    "train_data, validation_data, test_data = cPickle.load(f)\n",
    "f.close()\n",
    "type(train_data[0])"
   ]
  },
  {
   "cell_type": "code",
   "execution_count": 42,
   "metadata": {
    "collapsed": false
   },
   "outputs": [
    {
     "data": {
      "text/plain": [
       "(890,)"
      ]
     },
     "execution_count": 42,
     "metadata": {},
     "output_type": "execute_result"
    }
   ],
   "source": [
    "train_y.shape\n",
    "\n",
    "train_x.shape"
   ]
  },
  {
   "cell_type": "code",
   "execution_count": 92,
   "metadata": {
    "collapsed": false
   },
   "outputs": [],
   "source": [
    "shared_x = theano.shared(\n",
    "            np.asarray(train_x, dtype=theano.config.floatX), borrow=True)\n",
    "shared_y = theano.shared(\n",
    "    np.asarray(train_y, dtype=theano.config.floatX), borrow=True)\n",
    "training_data=(shared_x, T.cast(shared_y, \"int32\"))"
   ]
  },
  {
   "cell_type": "code",
   "execution_count": 7,
   "metadata": {
    "collapsed": true
   },
   "outputs": [],
   "source": [
    "train_x=train_x/255"
   ]
  },
  {
   "cell_type": "code",
   "execution_count": 8,
   "metadata": {
    "collapsed": false
   },
   "outputs": [
    {
     "data": {
      "text/plain": [
       "array([[ 0.00392157,  0.0023451 ,  0.00933726, ...,  0.16576471,\n",
       "         0.20817647,  0.16224706],\n",
       "       [ 0.21621568,  0.21459608,  0.22474117, ...,  0.5118039 ,\n",
       "         0.50788233,  0.51617252],\n",
       "       [ 0.27412157,  0.28196471,  0.29748236, ...,  0.03730196,\n",
       "         0.03338039,  0.03143922],\n",
       "       ..., \n",
       "       [ 0.31367843,  0.38684707,  0.43693333, ...,  0.22167059,\n",
       "         0.22167059,  0.22469804],\n",
       "       [ 0.09022353,  0.09022353,  0.08860392, ...,  0.19334117,\n",
       "         0.20902744,  0.2019098 ],\n",
       "       [ 0.35148235,  0.36111372,  0.36452158, ...,  0.15218039,\n",
       "         0.14955687,  0.14895687]])"
      ]
     },
     "execution_count": 8,
     "metadata": {},
     "output_type": "execute_result"
    }
   ],
   "source": []
  },
  {
   "cell_type": "markdown",
   "metadata": {},
   "source": [
    "for loading the shuffled data-set"
   ]
  },
  {
   "cell_type": "code",
   "execution_count": 12,
   "metadata": {
    "collapsed": false,
    "scrolled": true
   },
   "outputs": [
    {
     "ename": "MemoryError",
     "evalue": "",
     "output_type": "error",
     "traceback": [
      "\u001b[1;31m---------------------------------------------------------------------------\u001b[0m",
      "\u001b[1;31mMemoryError\u001b[0m                               Traceback (most recent call last)",
      "\u001b[1;32m<ipython-input-12-ad9d7098d3e3>\u001b[0m in \u001b[0;36m<module>\u001b[1;34m()\u001b[0m\n\u001b[0;32m      8\u001b[0m \u001b[0mtrain_y\u001b[0m\u001b[1;33m=\u001b[0m\u001b[0mnp\u001b[0m\u001b[1;33m.\u001b[0m\u001b[0mreshape\u001b[0m\u001b[1;33m(\u001b[0m\u001b[0mtrain_y\u001b[0m\u001b[1;33m,\u001b[0m\u001b[1;33m(\u001b[0m\u001b[1;36m4455\u001b[0m\u001b[1;33m,\u001b[0m\u001b[1;33m)\u001b[0m\u001b[1;33m)\u001b[0m\u001b[1;33m\u001b[0m\u001b[0m\n\u001b[0;32m      9\u001b[0m \u001b[1;33m\u001b[0m\u001b[0m\n\u001b[1;32m---> 10\u001b[1;33m \u001b[0mtrainx\u001b[0m\u001b[1;33m=\u001b[0m\u001b[0mpd\u001b[0m\u001b[1;33m.\u001b[0m\u001b[0mread_csv\u001b[0m\u001b[1;33m(\u001b[0m\u001b[1;34m\"./shuffled_ext_train_X.csv\"\u001b[0m\u001b[1;33m,\u001b[0m\u001b[0mheader\u001b[0m\u001b[1;33m=\u001b[0m\u001b[0mNone\u001b[0m\u001b[1;33m)\u001b[0m\u001b[1;33m\u001b[0m\u001b[0m\n\u001b[0m\u001b[0;32m     11\u001b[0m \u001b[0mtrain_x\u001b[0m\u001b[1;33m=\u001b[0m\u001b[0mtrainx\u001b[0m\u001b[1;33m.\u001b[0m\u001b[0mas_matrix\u001b[0m\u001b[1;33m(\u001b[0m\u001b[1;33m)\u001b[0m\u001b[1;33m\u001b[0m\u001b[0m\n\u001b[0;32m     12\u001b[0m \u001b[0mtrain_x\u001b[0m\u001b[1;33m=\u001b[0m\u001b[0mtrain_x\u001b[0m\u001b[1;33m/\u001b[0m\u001b[1;36m255\u001b[0m\u001b[1;33m\u001b[0m\u001b[0m\n",
      "\u001b[1;32m/home/abhinav/miniconda3/envs/py27/lib/python2.7/site-packages/pandas/io/parsers.pyc\u001b[0m in \u001b[0;36mparser_f\u001b[1;34m(filepath_or_buffer, sep, delimiter, header, names, index_col, usecols, squeeze, prefix, mangle_dupe_cols, dtype, engine, converters, true_values, false_values, skipinitialspace, skiprows, nrows, na_values, keep_default_na, na_filter, verbose, skip_blank_lines, parse_dates, infer_datetime_format, keep_date_col, date_parser, dayfirst, iterator, chunksize, compression, thousands, decimal, lineterminator, quotechar, quoting, escapechar, comment, encoding, dialect, tupleize_cols, error_bad_lines, warn_bad_lines, skipfooter, skip_footer, doublequote, delim_whitespace, as_recarray, compact_ints, use_unsigned, low_memory, buffer_lines, memory_map, float_precision)\u001b[0m\n\u001b[0;32m    643\u001b[0m                     skip_blank_lines=skip_blank_lines)\n\u001b[0;32m    644\u001b[0m \u001b[1;33m\u001b[0m\u001b[0m\n\u001b[1;32m--> 645\u001b[1;33m         \u001b[1;32mreturn\u001b[0m \u001b[0m_read\u001b[0m\u001b[1;33m(\u001b[0m\u001b[0mfilepath_or_buffer\u001b[0m\u001b[1;33m,\u001b[0m \u001b[0mkwds\u001b[0m\u001b[1;33m)\u001b[0m\u001b[1;33m\u001b[0m\u001b[0m\n\u001b[0m\u001b[0;32m    646\u001b[0m \u001b[1;33m\u001b[0m\u001b[0m\n\u001b[0;32m    647\u001b[0m     \u001b[0mparser_f\u001b[0m\u001b[1;33m.\u001b[0m\u001b[0m__name__\u001b[0m \u001b[1;33m=\u001b[0m \u001b[0mname\u001b[0m\u001b[1;33m\u001b[0m\u001b[0m\n",
      "\u001b[1;32m/home/abhinav/miniconda3/envs/py27/lib/python2.7/site-packages/pandas/io/parsers.pyc\u001b[0m in \u001b[0;36m_read\u001b[1;34m(filepath_or_buffer, kwds)\u001b[0m\n\u001b[0;32m    398\u001b[0m         \u001b[1;32mreturn\u001b[0m \u001b[0mparser\u001b[0m\u001b[1;33m\u001b[0m\u001b[0m\n\u001b[0;32m    399\u001b[0m \u001b[1;33m\u001b[0m\u001b[0m\n\u001b[1;32m--> 400\u001b[1;33m     \u001b[0mdata\u001b[0m \u001b[1;33m=\u001b[0m \u001b[0mparser\u001b[0m\u001b[1;33m.\u001b[0m\u001b[0mread\u001b[0m\u001b[1;33m(\u001b[0m\u001b[1;33m)\u001b[0m\u001b[1;33m\u001b[0m\u001b[0m\n\u001b[0m\u001b[0;32m    401\u001b[0m     \u001b[0mparser\u001b[0m\u001b[1;33m.\u001b[0m\u001b[0mclose\u001b[0m\u001b[1;33m(\u001b[0m\u001b[1;33m)\u001b[0m\u001b[1;33m\u001b[0m\u001b[0m\n\u001b[0;32m    402\u001b[0m     \u001b[1;32mreturn\u001b[0m \u001b[0mdata\u001b[0m\u001b[1;33m\u001b[0m\u001b[0m\n",
      "\u001b[1;32m/home/abhinav/miniconda3/envs/py27/lib/python2.7/site-packages/pandas/io/parsers.pyc\u001b[0m in \u001b[0;36mread\u001b[1;34m(self, nrows)\u001b[0m\n\u001b[0;32m    954\u001b[0m             \u001b[0mnew_rows\u001b[0m \u001b[1;33m=\u001b[0m \u001b[0mlen\u001b[0m\u001b[1;33m(\u001b[0m\u001b[0mindex\u001b[0m\u001b[1;33m)\u001b[0m\u001b[1;33m\u001b[0m\u001b[0m\n\u001b[0;32m    955\u001b[0m \u001b[1;33m\u001b[0m\u001b[0m\n\u001b[1;32m--> 956\u001b[1;33m         \u001b[0mdf\u001b[0m \u001b[1;33m=\u001b[0m \u001b[0mDataFrame\u001b[0m\u001b[1;33m(\u001b[0m\u001b[0mcol_dict\u001b[0m\u001b[1;33m,\u001b[0m \u001b[0mcolumns\u001b[0m\u001b[1;33m=\u001b[0m\u001b[0mcolumns\u001b[0m\u001b[1;33m,\u001b[0m \u001b[0mindex\u001b[0m\u001b[1;33m=\u001b[0m\u001b[0mindex\u001b[0m\u001b[1;33m)\u001b[0m\u001b[1;33m\u001b[0m\u001b[0m\n\u001b[0m\u001b[0;32m    957\u001b[0m \u001b[1;33m\u001b[0m\u001b[0m\n\u001b[0;32m    958\u001b[0m         \u001b[0mself\u001b[0m\u001b[1;33m.\u001b[0m\u001b[0m_currow\u001b[0m \u001b[1;33m+=\u001b[0m \u001b[0mnew_rows\u001b[0m\u001b[1;33m\u001b[0m\u001b[0m\n",
      "\u001b[1;32m/home/abhinav/miniconda3/envs/py27/lib/python2.7/site-packages/pandas/core/frame.pyc\u001b[0m in \u001b[0;36m__init__\u001b[1;34m(self, data, index, columns, dtype, copy)\u001b[0m\n\u001b[0;32m    264\u001b[0m                                  dtype=dtype, copy=copy)\n\u001b[0;32m    265\u001b[0m         \u001b[1;32melif\u001b[0m \u001b[0misinstance\u001b[0m\u001b[1;33m(\u001b[0m\u001b[0mdata\u001b[0m\u001b[1;33m,\u001b[0m \u001b[0mdict\u001b[0m\u001b[1;33m)\u001b[0m\u001b[1;33m:\u001b[0m\u001b[1;33m\u001b[0m\u001b[0m\n\u001b[1;32m--> 266\u001b[1;33m             \u001b[0mmgr\u001b[0m \u001b[1;33m=\u001b[0m \u001b[0mself\u001b[0m\u001b[1;33m.\u001b[0m\u001b[0m_init_dict\u001b[0m\u001b[1;33m(\u001b[0m\u001b[0mdata\u001b[0m\u001b[1;33m,\u001b[0m \u001b[0mindex\u001b[0m\u001b[1;33m,\u001b[0m \u001b[0mcolumns\u001b[0m\u001b[1;33m,\u001b[0m \u001b[0mdtype\u001b[0m\u001b[1;33m=\u001b[0m\u001b[0mdtype\u001b[0m\u001b[1;33m)\u001b[0m\u001b[1;33m\u001b[0m\u001b[0m\n\u001b[0m\u001b[0;32m    267\u001b[0m         \u001b[1;32melif\u001b[0m \u001b[0misinstance\u001b[0m\u001b[1;33m(\u001b[0m\u001b[0mdata\u001b[0m\u001b[1;33m,\u001b[0m \u001b[0mma\u001b[0m\u001b[1;33m.\u001b[0m\u001b[0mMaskedArray\u001b[0m\u001b[1;33m)\u001b[0m\u001b[1;33m:\u001b[0m\u001b[1;33m\u001b[0m\u001b[0m\n\u001b[0;32m    268\u001b[0m             \u001b[1;32mimport\u001b[0m \u001b[0mnumpy\u001b[0m\u001b[1;33m.\u001b[0m\u001b[0mma\u001b[0m\u001b[1;33m.\u001b[0m\u001b[0mmrecords\u001b[0m \u001b[1;32mas\u001b[0m \u001b[0mmrecords\u001b[0m\u001b[1;33m\u001b[0m\u001b[0m\n",
      "\u001b[1;32m/home/abhinav/miniconda3/envs/py27/lib/python2.7/site-packages/pandas/core/frame.pyc\u001b[0m in \u001b[0;36m_init_dict\u001b[1;34m(self, data, index, columns, dtype)\u001b[0m\n\u001b[0;32m    400\u001b[0m             \u001b[0marrays\u001b[0m \u001b[1;33m=\u001b[0m \u001b[1;33m[\u001b[0m\u001b[0mdata\u001b[0m\u001b[1;33m[\u001b[0m\u001b[0mk\u001b[0m\u001b[1;33m]\u001b[0m \u001b[1;32mfor\u001b[0m \u001b[0mk\u001b[0m \u001b[1;32min\u001b[0m \u001b[0mkeys\u001b[0m\u001b[1;33m]\u001b[0m\u001b[1;33m\u001b[0m\u001b[0m\n\u001b[0;32m    401\u001b[0m \u001b[1;33m\u001b[0m\u001b[0m\n\u001b[1;32m--> 402\u001b[1;33m         \u001b[1;32mreturn\u001b[0m \u001b[0m_arrays_to_mgr\u001b[0m\u001b[1;33m(\u001b[0m\u001b[0marrays\u001b[0m\u001b[1;33m,\u001b[0m \u001b[0mdata_names\u001b[0m\u001b[1;33m,\u001b[0m \u001b[0mindex\u001b[0m\u001b[1;33m,\u001b[0m \u001b[0mcolumns\u001b[0m\u001b[1;33m,\u001b[0m \u001b[0mdtype\u001b[0m\u001b[1;33m=\u001b[0m\u001b[0mdtype\u001b[0m\u001b[1;33m)\u001b[0m\u001b[1;33m\u001b[0m\u001b[0m\n\u001b[0m\u001b[0;32m    403\u001b[0m \u001b[1;33m\u001b[0m\u001b[0m\n\u001b[0;32m    404\u001b[0m     \u001b[1;32mdef\u001b[0m \u001b[0m_init_ndarray\u001b[0m\u001b[1;33m(\u001b[0m\u001b[0mself\u001b[0m\u001b[1;33m,\u001b[0m \u001b[0mvalues\u001b[0m\u001b[1;33m,\u001b[0m \u001b[0mindex\u001b[0m\u001b[1;33m,\u001b[0m \u001b[0mcolumns\u001b[0m\u001b[1;33m,\u001b[0m \u001b[0mdtype\u001b[0m\u001b[1;33m=\u001b[0m\u001b[0mNone\u001b[0m\u001b[1;33m,\u001b[0m \u001b[0mcopy\u001b[0m\u001b[1;33m=\u001b[0m\u001b[0mFalse\u001b[0m\u001b[1;33m)\u001b[0m\u001b[1;33m:\u001b[0m\u001b[1;33m\u001b[0m\u001b[0m\n",
      "\u001b[1;32m/home/abhinav/miniconda3/envs/py27/lib/python2.7/site-packages/pandas/core/frame.pyc\u001b[0m in \u001b[0;36m_arrays_to_mgr\u001b[1;34m(arrays, arr_names, index, columns, dtype)\u001b[0m\n\u001b[0;32m   5417\u001b[0m     \u001b[0maxes\u001b[0m \u001b[1;33m=\u001b[0m \u001b[1;33m[\u001b[0m\u001b[0m_ensure_index\u001b[0m\u001b[1;33m(\u001b[0m\u001b[0mcolumns\u001b[0m\u001b[1;33m)\u001b[0m\u001b[1;33m,\u001b[0m \u001b[0m_ensure_index\u001b[0m\u001b[1;33m(\u001b[0m\u001b[0mindex\u001b[0m\u001b[1;33m)\u001b[0m\u001b[1;33m]\u001b[0m\u001b[1;33m\u001b[0m\u001b[0m\n\u001b[0;32m   5418\u001b[0m \u001b[1;33m\u001b[0m\u001b[0m\n\u001b[1;32m-> 5419\u001b[1;33m     \u001b[1;32mreturn\u001b[0m \u001b[0mcreate_block_manager_from_arrays\u001b[0m\u001b[1;33m(\u001b[0m\u001b[0marrays\u001b[0m\u001b[1;33m,\u001b[0m \u001b[0marr_names\u001b[0m\u001b[1;33m,\u001b[0m \u001b[0maxes\u001b[0m\u001b[1;33m)\u001b[0m\u001b[1;33m\u001b[0m\u001b[0m\n\u001b[0m\u001b[0;32m   5420\u001b[0m \u001b[1;33m\u001b[0m\u001b[0m\n\u001b[0;32m   5421\u001b[0m \u001b[1;33m\u001b[0m\u001b[0m\n",
      "\u001b[1;32m/home/abhinav/miniconda3/envs/py27/lib/python2.7/site-packages/pandas/core/internals.pyc\u001b[0m in \u001b[0;36mcreate_block_manager_from_arrays\u001b[1;34m(arrays, names, axes)\u001b[0m\n\u001b[0;32m   4258\u001b[0m \u001b[1;33m\u001b[0m\u001b[0m\n\u001b[0;32m   4259\u001b[0m     \u001b[1;32mtry\u001b[0m\u001b[1;33m:\u001b[0m\u001b[1;33m\u001b[0m\u001b[0m\n\u001b[1;32m-> 4260\u001b[1;33m         \u001b[0mblocks\u001b[0m \u001b[1;33m=\u001b[0m \u001b[0mform_blocks\u001b[0m\u001b[1;33m(\u001b[0m\u001b[0marrays\u001b[0m\u001b[1;33m,\u001b[0m \u001b[0mnames\u001b[0m\u001b[1;33m,\u001b[0m \u001b[0maxes\u001b[0m\u001b[1;33m)\u001b[0m\u001b[1;33m\u001b[0m\u001b[0m\n\u001b[0m\u001b[0;32m   4261\u001b[0m         \u001b[0mmgr\u001b[0m \u001b[1;33m=\u001b[0m \u001b[0mBlockManager\u001b[0m\u001b[1;33m(\u001b[0m\u001b[0mblocks\u001b[0m\u001b[1;33m,\u001b[0m \u001b[0maxes\u001b[0m\u001b[1;33m)\u001b[0m\u001b[1;33m\u001b[0m\u001b[0m\n\u001b[0;32m   4262\u001b[0m         \u001b[0mmgr\u001b[0m\u001b[1;33m.\u001b[0m\u001b[0m_consolidate_inplace\u001b[0m\u001b[1;33m(\u001b[0m\u001b[1;33m)\u001b[0m\u001b[1;33m\u001b[0m\u001b[0m\n",
      "\u001b[1;32m/home/abhinav/miniconda3/envs/py27/lib/python2.7/site-packages/pandas/core/internals.pyc\u001b[0m in \u001b[0;36mform_blocks\u001b[1;34m(arrays, names, axes)\u001b[0m\n\u001b[0;32m   4327\u001b[0m     \u001b[0mblocks\u001b[0m \u001b[1;33m=\u001b[0m \u001b[1;33m[\u001b[0m\u001b[1;33m]\u001b[0m\u001b[1;33m\u001b[0m\u001b[0m\n\u001b[0;32m   4328\u001b[0m     \u001b[1;32mif\u001b[0m \u001b[0mlen\u001b[0m\u001b[1;33m(\u001b[0m\u001b[0mfloat_items\u001b[0m\u001b[1;33m)\u001b[0m\u001b[1;33m:\u001b[0m\u001b[1;33m\u001b[0m\u001b[0m\n\u001b[1;32m-> 4329\u001b[1;33m         \u001b[0mfloat_blocks\u001b[0m \u001b[1;33m=\u001b[0m \u001b[0m_multi_blockify\u001b[0m\u001b[1;33m(\u001b[0m\u001b[0mfloat_items\u001b[0m\u001b[1;33m)\u001b[0m\u001b[1;33m\u001b[0m\u001b[0m\n\u001b[0m\u001b[0;32m   4330\u001b[0m         \u001b[0mblocks\u001b[0m\u001b[1;33m.\u001b[0m\u001b[0mextend\u001b[0m\u001b[1;33m(\u001b[0m\u001b[0mfloat_blocks\u001b[0m\u001b[1;33m)\u001b[0m\u001b[1;33m\u001b[0m\u001b[0m\n\u001b[0;32m   4331\u001b[0m \u001b[1;33m\u001b[0m\u001b[0m\n",
      "\u001b[1;32m/home/abhinav/miniconda3/envs/py27/lib/python2.7/site-packages/pandas/core/internals.pyc\u001b[0m in \u001b[0;36m_multi_blockify\u001b[1;34m(tuples, dtype)\u001b[0m\n\u001b[0;32m   4404\u001b[0m     \u001b[1;32mfor\u001b[0m \u001b[0mdtype\u001b[0m\u001b[1;33m,\u001b[0m \u001b[0mtup_block\u001b[0m \u001b[1;32min\u001b[0m \u001b[0mgrouper\u001b[0m\u001b[1;33m:\u001b[0m\u001b[1;33m\u001b[0m\u001b[0m\n\u001b[0;32m   4405\u001b[0m \u001b[1;33m\u001b[0m\u001b[0m\n\u001b[1;32m-> 4406\u001b[1;33m         \u001b[0mvalues\u001b[0m\u001b[1;33m,\u001b[0m \u001b[0mplacement\u001b[0m \u001b[1;33m=\u001b[0m \u001b[0m_stack_arrays\u001b[0m\u001b[1;33m(\u001b[0m\u001b[0mlist\u001b[0m\u001b[1;33m(\u001b[0m\u001b[0mtup_block\u001b[0m\u001b[1;33m)\u001b[0m\u001b[1;33m,\u001b[0m \u001b[0mdtype\u001b[0m\u001b[1;33m)\u001b[0m\u001b[1;33m\u001b[0m\u001b[0m\n\u001b[0m\u001b[0;32m   4407\u001b[0m \u001b[1;33m\u001b[0m\u001b[0m\n\u001b[0;32m   4408\u001b[0m         \u001b[0mblock\u001b[0m \u001b[1;33m=\u001b[0m \u001b[0mmake_block\u001b[0m\u001b[1;33m(\u001b[0m\u001b[0mvalues\u001b[0m\u001b[1;33m,\u001b[0m \u001b[0mplacement\u001b[0m\u001b[1;33m=\u001b[0m\u001b[0mplacement\u001b[0m\u001b[1;33m)\u001b[0m\u001b[1;33m\u001b[0m\u001b[0m\n",
      "\u001b[1;32m/home/abhinav/miniconda3/envs/py27/lib/python2.7/site-packages/pandas/core/internals.pyc\u001b[0m in \u001b[0;36m_stack_arrays\u001b[1;34m(tuples, dtype)\u001b[0m\n\u001b[0;32m   4447\u001b[0m     \u001b[0mshape\u001b[0m \u001b[1;33m=\u001b[0m \u001b[1;33m(\u001b[0m\u001b[0mlen\u001b[0m\u001b[1;33m(\u001b[0m\u001b[0marrays\u001b[0m\u001b[1;33m)\u001b[0m\u001b[1;33m,\u001b[0m\u001b[1;33m)\u001b[0m \u001b[1;33m+\u001b[0m \u001b[0m_shape_compat\u001b[0m\u001b[1;33m(\u001b[0m\u001b[0mfirst\u001b[0m\u001b[1;33m)\u001b[0m\u001b[1;33m\u001b[0m\u001b[0m\n\u001b[0;32m   4448\u001b[0m \u001b[1;33m\u001b[0m\u001b[0m\n\u001b[1;32m-> 4449\u001b[1;33m     \u001b[0mstacked\u001b[0m \u001b[1;33m=\u001b[0m \u001b[0mnp\u001b[0m\u001b[1;33m.\u001b[0m\u001b[0mempty\u001b[0m\u001b[1;33m(\u001b[0m\u001b[0mshape\u001b[0m\u001b[1;33m,\u001b[0m \u001b[0mdtype\u001b[0m\u001b[1;33m=\u001b[0m\u001b[0mdtype\u001b[0m\u001b[1;33m)\u001b[0m\u001b[1;33m\u001b[0m\u001b[0m\n\u001b[0m\u001b[0;32m   4450\u001b[0m     \u001b[1;32mfor\u001b[0m \u001b[0mi\u001b[0m\u001b[1;33m,\u001b[0m \u001b[0marr\u001b[0m \u001b[1;32min\u001b[0m \u001b[0menumerate\u001b[0m\u001b[1;33m(\u001b[0m\u001b[0marrays\u001b[0m\u001b[1;33m)\u001b[0m\u001b[1;33m:\u001b[0m\u001b[1;33m\u001b[0m\u001b[0m\n\u001b[0;32m   4451\u001b[0m         \u001b[0mstacked\u001b[0m\u001b[1;33m[\u001b[0m\u001b[0mi\u001b[0m\u001b[1;33m]\u001b[0m \u001b[1;33m=\u001b[0m \u001b[0m_asarray_compat\u001b[0m\u001b[1;33m(\u001b[0m\u001b[0marr\u001b[0m\u001b[1;33m)\u001b[0m\u001b[1;33m\u001b[0m\u001b[0m\n",
      "\u001b[1;31mMemoryError\u001b[0m: "
     ]
    }
   ],
   "source": [
    "import pandas as pd\n",
    "import numpy as np\n",
    "import theano\n",
    "import theano.tensor as T\n",
    "\n",
    "trainy=pd.read_csv(\"./shuffled_ext_train_Y.csv\",header=None)\n",
    "train_y=trainy.as_matrix()\n",
    "train_y=np.reshape(train_y,(4455,))\n",
    "\n",
    "trainx=pd.read_csv(\"./shuffled_ext_train_X.csv\",header=None)\n",
    "train_x=trainx.as_matrix()\n",
    "train_x=train_x/255\n"
   ]
  },
  {
   "cell_type": "code",
   "execution_count": 4,
   "metadata": {
    "collapsed": false,
    "scrolled": true
   },
   "outputs": [],
   "source": [
    "import pandas as pd\n",
    "import numpy as np\n",
    "import theano\n",
    "import theano.tensor as T\n",
    "\n",
    "trainy=pd.read_csv(\"./shuffled_Y.csv\",header=None)\n",
    "train_y=trainy.as_matrix()\n",
    "train_y=np.reshape(train_y,(891,))\n",
    "\n",
    "trainx=pd.read_csv(\"./shuffled_X.csv\",header=None)\n",
    "train_x=trainx.as_matrix()\n",
    "train_x=train_x/255\n"
   ]
  },
  {
   "cell_type": "code",
   "execution_count": 5,
   "metadata": {
    "collapsed": true
   },
   "outputs": [],
   "source": [
    "Valy=pd.read_csv(\"./shuffled_Val_Y.csv\",header=None)\n",
    "Val_y=Valy.as_matrix()\n",
    "Val_y=np.reshape(Val_y,(431,))\n",
    "\n",
    "Valx=pd.read_csv(\"./shuffled_Val_X.csv\",header=None)\n",
    "Val_x=Valx.as_matrix()\n",
    "Val_x=Val_x/255\n"
   ]
  },
  {
   "cell_type": "code",
   "execution_count": 6,
   "metadata": {
    "collapsed": false
   },
   "outputs": [],
   "source": [
    "import network3 \n",
    "from network3  import Network\n",
    "from network3 import ConvPoolLayer, FullyConnectedLayer, SoftmaxLayer\n",
    "from network3 import ReLU\n",
    "mini_batch_size = 10"
   ]
  },
  {
   "cell_type": "code",
   "execution_count": 7,
   "metadata": {
    "collapsed": true
   },
   "outputs": [],
   "source": [
    "eta=0.05"
   ]
  },
  {
   "cell_type": "code",
   "execution_count": 8,
   "metadata": {
    "collapsed": true
   },
   "outputs": [],
   "source": [
    "shared_x = theano.shared(\n",
    "            np.asarray(train_x, dtype=theano.config.floatX), borrow=True)\n",
    "shared_y = theano.shared(\n",
    "    np.asarray(train_y, dtype=theano.config.floatX), borrow=True)\n",
    "training_data=(shared_x, T.cast(shared_y, \"int32\"))"
   ]
  },
  {
   "cell_type": "code",
   "execution_count": 9,
   "metadata": {
    "collapsed": true
   },
   "outputs": [],
   "source": [
    "shared_x = theano.shared(\n",
    "            np.asarray(Val_x, dtype=theano.config.floatX), borrow=True)\n",
    "shared_y = theano.shared(\n",
    "    np.asarray(Val_y, dtype=theano.config.floatX), borrow=True)\n",
    "Validation_data=(shared_x, T.cast(shared_y, \"int32\"))"
   ]
  },
  {
   "cell_type": "code",
   "execution_count": 10,
   "metadata": {
    "collapsed": false,
    "scrolled": true
   },
   "outputs": [
    {
     "name": "stdout",
     "output_type": "stream",
     "text": [
      "Training mini-batch number 0\n",
      "Epoch 0: validation accuracy 23.71%\n",
      "This is the best validation accuracy to date.\n",
      "The corresponding test accuracy is 23.71%\n",
      "Training mini-batch number 89\n",
      "Epoch 1: validation accuracy 21.35%\n",
      "Training mini-batch number 178\n",
      "Epoch 2: validation accuracy 21.57%\n",
      "Training mini-batch number 267\n",
      "Epoch 3: validation accuracy 23.15%\n",
      "Training mini-batch number 356\n",
      "Epoch 4: validation accuracy 23.93%\n",
      "This is the best validation accuracy to date.\n",
      "The corresponding test accuracy is 23.93%\n",
      "Training mini-batch number 445\n",
      "Epoch 5: validation accuracy 24.72%\n",
      "This is the best validation accuracy to date.\n",
      "The corresponding test accuracy is 24.72%\n",
      "Training mini-batch number 534\n",
      "Epoch 6: validation accuracy 25.51%\n",
      "This is the best validation accuracy to date.\n",
      "The corresponding test accuracy is 25.51%\n",
      "Training mini-batch number 623\n",
      "Epoch 7: validation accuracy 25.28%\n",
      "Training mini-batch number 712\n",
      "Epoch 8: validation accuracy 25.06%\n",
      "Training mini-batch number 801\n",
      "Epoch 9: validation accuracy 25.39%\n",
      "Training mini-batch number 890\n",
      "Epoch 10: validation accuracy 26.29%\n",
      "This is the best validation accuracy to date.\n",
      "The corresponding test accuracy is 26.29%\n",
      "Training mini-batch number 979\n",
      "Epoch 11: validation accuracy 26.29%\n",
      "This is the best validation accuracy to date.\n",
      "The corresponding test accuracy is 26.29%\n",
      "Training mini-batch number 1068\n",
      "Epoch 12: validation accuracy 27.19%\n",
      "This is the best validation accuracy to date.\n",
      "The corresponding test accuracy is 27.19%\n",
      "Training mini-batch number 1157\n",
      "Epoch 13: validation accuracy 27.87%\n",
      "This is the best validation accuracy to date.\n",
      "The corresponding test accuracy is 27.87%\n",
      "Training mini-batch number 1246\n",
      "Epoch 14: validation accuracy 27.75%\n",
      "Training mini-batch number 1335\n",
      "Epoch 15: validation accuracy 28.43%\n",
      "This is the best validation accuracy to date.\n",
      "The corresponding test accuracy is 28.43%\n",
      "Training mini-batch number 1424\n",
      "Epoch 16: validation accuracy 28.54%\n",
      "This is the best validation accuracy to date.\n",
      "The corresponding test accuracy is 28.54%\n",
      "Training mini-batch number 1513\n",
      "Epoch 17: validation accuracy 29.55%\n",
      "This is the best validation accuracy to date.\n",
      "The corresponding test accuracy is 29.55%\n",
      "Training mini-batch number 1602\n",
      "Epoch 18: validation accuracy 30.22%\n",
      "This is the best validation accuracy to date.\n",
      "The corresponding test accuracy is 30.22%\n",
      "Training mini-batch number 1691\n",
      "Epoch 19: validation accuracy 31.12%\n",
      "This is the best validation accuracy to date.\n",
      "The corresponding test accuracy is 31.12%\n",
      "Training mini-batch number 1780\n",
      "Epoch 20: validation accuracy 31.69%\n",
      "This is the best validation accuracy to date.\n",
      "The corresponding test accuracy is 31.69%\n",
      "Training mini-batch number 1869\n",
      "Epoch 21: validation accuracy 32.13%\n",
      "This is the best validation accuracy to date.\n",
      "The corresponding test accuracy is 32.13%\n",
      "Training mini-batch number 1958\n",
      "Epoch 22: validation accuracy 32.81%\n",
      "This is the best validation accuracy to date.\n",
      "The corresponding test accuracy is 32.81%\n",
      "Training mini-batch number 2047\n",
      "Epoch 23: validation accuracy 34.38%\n",
      "This is the best validation accuracy to date.\n",
      "The corresponding test accuracy is 34.38%\n",
      "Training mini-batch number 2136\n",
      "Epoch 24: validation accuracy 35.06%\n",
      "This is the best validation accuracy to date.\n",
      "The corresponding test accuracy is 35.06%\n",
      "Finished training network.\n",
      "Best validation accuracy of 35.06% obtained at iteration 2224\n",
      "Corresponding test accuracy of 35.06%\n",
      "After changing to best weights:\n",
      "\n",
      "validation accuracy:3506\n"
     ]
    }
   ],
   "source": [
    "net = Network([\n",
    "        FullyConnectedLayer(n_in=25883, n_out=5000),\n",
    "        FullyConnectedLayer(n_in=5000, n_out=1000),\n",
    "        SoftmaxLayer(n_in=1000, n_out=7)], mini_batch_size)\n",
    "\n",
    "net.SGD(training_data, 25, mini_batch_size, eta, training_data, Validation_data,lmbda=0.0)"
   ]
  },
  {
   "cell_type": "code",
   "execution_count": 70,
   "metadata": {
    "collapsed": false,
    "scrolled": true
   },
   "outputs": [
    {
     "name": "stdout",
     "output_type": "stream",
     "text": [
      "Training mini-batch number 0\n",
      "Epoch 0: validation accuracy 19.30%\n",
      "This is the best validation accuracy to date.\n",
      "The corresponding test accuracy is 24.27%\n",
      "Training mini-batch number 89\n",
      "Epoch 1: validation accuracy 19.07%\n",
      "Training mini-batch number 178\n",
      "Epoch 2: validation accuracy 18.84%\n",
      "Training mini-batch number 267\n",
      "Epoch 3: validation accuracy 19.77%\n",
      "This is the best validation accuracy to date.\n",
      "The corresponding test accuracy is 22.92%\n",
      "Training mini-batch number 356\n",
      "Epoch 4: validation accuracy 20.47%\n",
      "This is the best validation accuracy to date.\n",
      "The corresponding test accuracy is 24.16%\n",
      "Training mini-batch number 445\n",
      "Epoch 5: validation accuracy 20.23%\n",
      "Training mini-batch number 534\n",
      "Epoch 6: validation accuracy 21.40%\n",
      "This is the best validation accuracy to date.\n",
      "The corresponding test accuracy is 25.06%\n",
      "Training mini-batch number 623\n",
      "Epoch 7: validation accuracy 21.16%\n",
      "Training mini-batch number 712\n",
      "Epoch 8: validation accuracy 21.16%\n",
      "Training mini-batch number 801\n",
      "Epoch 9: validation accuracy 21.16%\n",
      "Training mini-batch number 890\n",
      "Epoch 10: validation accuracy 21.40%\n",
      "This is the best validation accuracy to date.\n",
      "The corresponding test accuracy is 26.18%\n",
      "Training mini-batch number 979\n",
      "Epoch 11: validation accuracy 21.86%\n",
      "This is the best validation accuracy to date.\n",
      "The corresponding test accuracy is 26.52%\n",
      "Training mini-batch number 1068\n",
      "Epoch 12: validation accuracy 21.63%\n",
      "Training mini-batch number 1157\n",
      "Epoch 13: validation accuracy 21.63%\n",
      "Training mini-batch number 1246\n",
      "Epoch 14: validation accuracy 21.16%\n",
      "Training mini-batch number 1335\n",
      "Epoch 15: validation accuracy 21.63%\n",
      "Training mini-batch number 1424\n",
      "Epoch 16: validation accuracy 22.33%\n",
      "This is the best validation accuracy to date.\n",
      "The corresponding test accuracy is 27.53%\n",
      "Training mini-batch number 1513\n",
      "Epoch 17: validation accuracy 22.09%\n",
      "Training mini-batch number 1602\n",
      "Epoch 18: validation accuracy 21.40%\n",
      "Training mini-batch number 1691\n",
      "Epoch 19: validation accuracy 20.93%\n",
      "Training mini-batch number 1780\n",
      "Epoch 20: validation accuracy 20.00%\n",
      "Training mini-batch number 1869\n",
      "Epoch 21: validation accuracy 19.77%\n",
      "Training mini-batch number 1958\n",
      "Epoch 22: validation accuracy 20.23%\n",
      "Training mini-batch number 2047\n",
      "Epoch 23: validation accuracy 20.47%\n",
      "Training mini-batch number 2136\n",
      "Epoch 24: validation accuracy 20.47%\n",
      "Training mini-batch number 2225\n",
      "Epoch 25: validation accuracy 22.33%\n",
      "This is the best validation accuracy to date.\n",
      "The corresponding test accuracy is 33.93%\n",
      "Training mini-batch number 2314\n",
      "Epoch 26: validation accuracy 22.09%\n",
      "Training mini-batch number 2403\n",
      "Epoch 27: validation accuracy 22.09%\n",
      "Training mini-batch number 2492\n",
      "Epoch 28: validation accuracy 23.02%\n",
      "This is the best validation accuracy to date.\n",
      "The corresponding test accuracy is 35.39%\n",
      "Training mini-batch number 2581\n",
      "Epoch 29: validation accuracy 22.79%\n",
      "Training mini-batch number 2670\n",
      "Epoch 30: validation accuracy 22.56%\n",
      "Training mini-batch number 2759\n",
      "Epoch 31: validation accuracy 22.33%\n",
      "Training mini-batch number 2848\n",
      "Epoch 32: validation accuracy 22.09%\n",
      "Training mini-batch number 2937\n",
      "Epoch 33: validation accuracy 22.33%\n",
      "Training mini-batch number 3026\n",
      "Epoch 34: validation accuracy 22.56%\n",
      "Training mini-batch number 3115\n",
      "Epoch 35: validation accuracy 23.02%\n",
      "This is the best validation accuracy to date.\n",
      "The corresponding test accuracy is 39.10%\n",
      "Training mini-batch number 3204\n",
      "Epoch 36: validation accuracy 23.26%\n",
      "This is the best validation accuracy to date.\n",
      "The corresponding test accuracy is 39.21%\n",
      "Training mini-batch number 3293\n",
      "Epoch 37: validation accuracy 23.26%\n",
      "This is the best validation accuracy to date.\n",
      "The corresponding test accuracy is 40.34%\n",
      "Training mini-batch number 3382\n",
      "Epoch 38: validation accuracy 24.19%\n",
      "This is the best validation accuracy to date.\n",
      "The corresponding test accuracy is 41.24%\n",
      "Training mini-batch number 3471\n",
      "Epoch 39: validation accuracy 24.65%\n",
      "This is the best validation accuracy to date.\n",
      "The corresponding test accuracy is 42.47%\n",
      "Finished training network.\n",
      "Best validation accuracy of 24.65% obtained at iteration 3559\n",
      "Corresponding test accuracy of 42.47%\n",
      "After changing to best weights:\n",
      "\n",
      "validation accuracy:2465\n"
     ]
    }
   ],
   "source": [
    "net = Network([\n",
    "        FullyConnectedLayer(n_in=25883, n_out=5000),\n",
    "        FullyConnectedLayer(n_in=5000, n_out=1000),\n",
    "        SoftmaxLayer(n_in=1000, n_out=7)], mini_batch_size)\n",
    "\n",
    "net.SGD(training_data, 40, mini_batch_size, eta, Validation_data, training_data,lmbda=0.03)"
   ]
  },
  {
   "cell_type": "code",
   "execution_count": 55,
   "metadata": {
    "collapsed": false,
    "scrolled": true
   },
   "outputs": [
    {
     "name": "stdout",
     "output_type": "stream",
     "text": [
      "Training mini-batch number 0\n",
      "Epoch 0: validation accuracy 18.37%\n",
      "This is the best validation accuracy to date.\n",
      "The corresponding test accuracy is 20.11%\n",
      "Training mini-batch number 89\n",
      "Epoch 1: validation accuracy 20.47%\n",
      "This is the best validation accuracy to date.\n",
      "The corresponding test accuracy is 23.37%\n",
      "Training mini-batch number 178\n",
      "Epoch 2: validation accuracy 20.70%\n",
      "This is the best validation accuracy to date.\n",
      "The corresponding test accuracy is 23.15%\n",
      "Training mini-batch number 267\n",
      "Epoch 3: validation accuracy 19.77%\n",
      "Training mini-batch number 356\n",
      "Epoch 4: validation accuracy 17.67%\n",
      "Training mini-batch number 445\n",
      "Epoch 5: validation accuracy 18.37%\n",
      "Training mini-batch number 534\n",
      "Epoch 6: validation accuracy 16.98%\n",
      "Training mini-batch number 623\n",
      "Epoch 7: validation accuracy 22.56%\n",
      "This is the best validation accuracy to date.\n",
      "The corresponding test accuracy is 30.56%\n",
      "Training mini-batch number 712\n",
      "Epoch 8: validation accuracy 19.30%\n",
      "Training mini-batch number 801\n",
      "Epoch 9: validation accuracy 17.67%\n",
      "Training mini-batch number 890\n",
      "Epoch 10: validation accuracy 19.77%\n",
      "Training mini-batch number 979\n",
      "Epoch 11: validation accuracy 16.74%\n",
      "Training mini-batch number 1068\n",
      "Epoch 12: validation accuracy 19.53%\n",
      "Training mini-batch number 1157\n",
      "Epoch 13: validation accuracy 19.30%\n",
      "Training mini-batch number 1246\n",
      "Epoch 14: validation accuracy 19.77%\n",
      "Training mini-batch number 1335\n",
      "Epoch 15: validation accuracy 20.23%\n",
      "Training mini-batch number 1424\n",
      "Epoch 16: validation accuracy 20.00%\n",
      "Training mini-batch number 1513\n",
      "Epoch 17: validation accuracy 19.77%\n",
      "Training mini-batch number 1602\n",
      "Epoch 18: validation accuracy 18.37%\n",
      "Training mini-batch number 1691\n",
      "Epoch 19: validation accuracy 21.16%\n",
      "Training mini-batch number 1780\n",
      "Epoch 20: validation accuracy 21.40%\n",
      "Training mini-batch number 1869\n",
      "Epoch 21: validation accuracy 22.09%\n",
      "Training mini-batch number 1958\n",
      "Epoch 22: validation accuracy 19.30%\n",
      "Training mini-batch number 2047\n",
      "Epoch 23: validation accuracy 21.16%\n",
      "Training mini-batch number 2136\n",
      "Epoch 24: validation accuracy 21.63%\n",
      "Training mini-batch number 2225\n",
      "Epoch 25: validation accuracy 18.60%\n",
      "Training mini-batch number 2314\n",
      "Epoch 26: validation accuracy 21.86%\n",
      "Training mini-batch number 2403\n",
      "Epoch 27: validation accuracy 23.72%\n",
      "This is the best validation accuracy to date.\n",
      "The corresponding test accuracy is 45.73%\n",
      "Training mini-batch number 2492\n",
      "Epoch 28: validation accuracy 24.65%\n",
      "This is the best validation accuracy to date.\n",
      "The corresponding test accuracy is 56.18%\n",
      "Training mini-batch number 2581\n",
      "Epoch 29: validation accuracy 24.19%\n",
      "Training mini-batch number 2670\n",
      "Epoch 30: validation accuracy 21.63%\n",
      "Training mini-batch number 2759\n",
      "Epoch 31: validation accuracy 18.84%\n",
      "Training mini-batch number 2848\n",
      "Epoch 32: validation accuracy 22.33%\n",
      "Training mini-batch number 2937\n",
      "Epoch 33: validation accuracy 19.77%\n",
      "Training mini-batch number 3026\n",
      "Epoch 34: validation accuracy 19.53%\n",
      "Training mini-batch number 3115\n",
      "Epoch 35: validation accuracy 19.53%\n",
      "Training mini-batch number 3204\n",
      "Epoch 36: validation accuracy 17.91%\n",
      "Training mini-batch number 3293\n",
      "Epoch 37: validation accuracy 24.65%\n",
      "Training mini-batch number 3382\n",
      "Epoch 38: validation accuracy 23.26%\n",
      "Training mini-batch number 3471\n",
      "Epoch 39: validation accuracy 19.77%\n",
      "Finished training network.\n",
      "Best validation accuracy of 24.65% obtained at iteration 2580\n",
      "Corresponding test accuracy of 56.18%\n",
      "After changing to best weights:\n",
      "\n",
      "validation accuracy:2465\n"
     ]
    }
   ],
   "source": [
    "net = Network([\n",
    "        FullyConnectedLayer(n_in=25883, n_out=3000,activation_fn=ReLU),\n",
    "        FullyConnectedLayer(n_in=3000, n_out=1000,activation_fn=ReLU),\n",
    "        FullyConnectedLayer(n_in=1000, n_out=500,activation_fn=ReLU),\n",
    "        SoftmaxLayer(n_in=500, n_out=7)], mini_batch_size)\n",
    "\n",
    "net.SGD(training_data, 40, mini_batch_size, eta,  Validation_data, training_data,lmbda=0.03)"
   ]
  },
  {
   "cell_type": "code",
   "execution_count": 69,
   "metadata": {
    "collapsed": false,
    "scrolled": true
   },
   "outputs": [
    {
     "name": "stdout",
     "output_type": "stream",
     "text": [
      "Training mini-batch number 0\n",
      "Epoch 0: validation accuracy 19.07%\n",
      "This is the best validation accuracy to date.\n",
      "The corresponding test accuracy is 21.80%\n",
      "Training mini-batch number 89\n",
      "Epoch 1: validation accuracy 18.60%\n",
      "Training mini-batch number 178\n",
      "Epoch 2: validation accuracy 19.07%\n",
      "This is the best validation accuracy to date.\n",
      "The corresponding test accuracy is 25.96%\n",
      "Training mini-batch number 267\n",
      "Epoch 3: validation accuracy 19.53%\n",
      "This is the best validation accuracy to date.\n",
      "The corresponding test accuracy is 25.96%\n",
      "Training mini-batch number 356\n",
      "Epoch 4: validation accuracy 15.81%\n",
      "Training mini-batch number 445\n",
      "Epoch 5: validation accuracy 14.88%\n",
      "Training mini-batch number 534\n",
      "Epoch 6: validation accuracy 14.88%\n",
      "Training mini-batch number 623\n",
      "Epoch 7: validation accuracy 14.88%\n",
      "Training mini-batch number 712\n"
     ]
    },
    {
     "ename": "KeyboardInterrupt",
     "evalue": "",
     "output_type": "error",
     "traceback": [
      "\u001b[1;31m---------------------------------------------------------------------------\u001b[0m",
      "\u001b[1;31mKeyboardInterrupt\u001b[0m                         Traceback (most recent call last)",
      "\u001b[1;32m<ipython-input-69-0dff99a3051f>\u001b[0m in \u001b[0;36m<module>\u001b[1;34m()\u001b[0m\n\u001b[0;32m      5\u001b[0m         SoftmaxLayer(n_in=1000, n_out=7)], mini_batch_size)\n\u001b[0;32m      6\u001b[0m \u001b[1;33m\u001b[0m\u001b[0m\n\u001b[1;32m----> 7\u001b[1;33m \u001b[0mnet\u001b[0m\u001b[1;33m.\u001b[0m\u001b[0mSGD\u001b[0m\u001b[1;33m(\u001b[0m\u001b[0mtraining_data\u001b[0m\u001b[1;33m,\u001b[0m \u001b[1;36m40\u001b[0m\u001b[1;33m,\u001b[0m \u001b[0mmini_batch_size\u001b[0m\u001b[1;33m,\u001b[0m \u001b[0meta\u001b[0m\u001b[1;33m,\u001b[0m  \u001b[0mValidation_data\u001b[0m\u001b[1;33m,\u001b[0m \u001b[0mtraining_data\u001b[0m\u001b[1;33m,\u001b[0m\u001b[0mlmbda\u001b[0m\u001b[1;33m=\u001b[0m\u001b[1;36m0.03\u001b[0m\u001b[1;33m)\u001b[0m\u001b[1;33m\u001b[0m\u001b[0m\n\u001b[0m",
      "\u001b[1;32m/home/abhinav/Desktop/5th sem/mlt/project/Untitled Folder/network3.pyc\u001b[0m in \u001b[0;36mSGD\u001b[1;34m(self, training_data, epochs, mini_batch_size, eta, validation_data, test_data, lmbda)\u001b[0m\n\u001b[0;32m    162\u001b[0m                 \u001b[1;32mif\u001b[0m \u001b[0miteration\u001b[0m \u001b[1;33m%\u001b[0m \u001b[1;36m89\u001b[0m \u001b[1;33m==\u001b[0m \u001b[1;36m0\u001b[0m\u001b[1;33m:\u001b[0m\u001b[1;33m\u001b[0m\u001b[0m\n\u001b[0;32m    163\u001b[0m                     \u001b[1;32mprint\u001b[0m\u001b[1;33m(\u001b[0m\u001b[1;34m\"Training mini-batch number {0}\"\u001b[0m\u001b[1;33m.\u001b[0m\u001b[0mformat\u001b[0m\u001b[1;33m(\u001b[0m\u001b[0miteration\u001b[0m\u001b[1;33m)\u001b[0m\u001b[1;33m)\u001b[0m\u001b[1;33m\u001b[0m\u001b[0m\n\u001b[1;32m--> 164\u001b[1;33m                 \u001b[0mcost_ij\u001b[0m \u001b[1;33m=\u001b[0m \u001b[0mtrain_mb\u001b[0m\u001b[1;33m(\u001b[0m\u001b[0mminibatch_index\u001b[0m\u001b[1;33m)\u001b[0m\u001b[1;33m\u001b[0m\u001b[0m\n\u001b[0m\u001b[0;32m    165\u001b[0m                 \u001b[1;32mif\u001b[0m \u001b[1;33m(\u001b[0m\u001b[0miteration\u001b[0m\u001b[1;33m+\u001b[0m\u001b[1;36m1\u001b[0m\u001b[1;33m)\u001b[0m \u001b[1;33m%\u001b[0m \u001b[0mnum_training_batches\u001b[0m \u001b[1;33m==\u001b[0m \u001b[1;36m0\u001b[0m\u001b[1;33m:\u001b[0m\u001b[1;33m\u001b[0m\u001b[0m\n\u001b[0;32m    166\u001b[0m                     validation_accuracy = np.mean(\n",
      "\u001b[1;32m/home/abhinav/miniconda3/envs/py27/lib/python2.7/site-packages/theano/compile/function_module.pyc\u001b[0m in \u001b[0;36m__call__\u001b[1;34m(self, *args, **kwargs)\u001b[0m\n\u001b[0;32m    857\u001b[0m         \u001b[0mt0_fn\u001b[0m \u001b[1;33m=\u001b[0m \u001b[0mtime\u001b[0m\u001b[1;33m.\u001b[0m\u001b[0mtime\u001b[0m\u001b[1;33m(\u001b[0m\u001b[1;33m)\u001b[0m\u001b[1;33m\u001b[0m\u001b[0m\n\u001b[0;32m    858\u001b[0m         \u001b[1;32mtry\u001b[0m\u001b[1;33m:\u001b[0m\u001b[1;33m\u001b[0m\u001b[0m\n\u001b[1;32m--> 859\u001b[1;33m             \u001b[0moutputs\u001b[0m \u001b[1;33m=\u001b[0m \u001b[0mself\u001b[0m\u001b[1;33m.\u001b[0m\u001b[0mfn\u001b[0m\u001b[1;33m(\u001b[0m\u001b[1;33m)\u001b[0m\u001b[1;33m\u001b[0m\u001b[0m\n\u001b[0m\u001b[0;32m    860\u001b[0m         \u001b[1;32mexcept\u001b[0m \u001b[0mException\u001b[0m\u001b[1;33m:\u001b[0m\u001b[1;33m\u001b[0m\u001b[0m\n\u001b[0;32m    861\u001b[0m             \u001b[1;32mif\u001b[0m \u001b[0mhasattr\u001b[0m\u001b[1;33m(\u001b[0m\u001b[0mself\u001b[0m\u001b[1;33m.\u001b[0m\u001b[0mfn\u001b[0m\u001b[1;33m,\u001b[0m \u001b[1;34m'position_of_error'\u001b[0m\u001b[1;33m)\u001b[0m\u001b[1;33m:\u001b[0m\u001b[1;33m\u001b[0m\u001b[0m\n",
      "\u001b[1;31mKeyboardInterrupt\u001b[0m: "
     ]
    }
   ],
   "source": [
    "net = Network([\n",
    "        FullyConnectedLayer(n_in=25883, n_out=5000,activation_fn=ReLU),\n",
    "        FullyConnectedLayer(n_in=5000, n_out=2000,activation_fn=ReLU),\n",
    "        FullyConnectedLayer(n_in=2000, n_out=1000,activation_fn=ReLU),\n",
    "        SoftmaxLayer(n_in=1000, n_out=7)], mini_batch_size)\n",
    "\n",
    "net.SGD(training_data, 40, mini_batch_size, eta,  Validation_data, training_data,lmbda=0.03)"
   ]
  },
  {
   "cell_type": "code",
   "execution_count": 71,
   "metadata": {
    "collapsed": true
   },
   "outputs": [],
   "source": [
    "param_save=[T.cast(param,\"float32\").eval() for param in net.params]"
   ]
  },
  {
   "cell_type": "code",
   "execution_count": 58,
   "metadata": {
    "collapsed": false
   },
   "outputs": [],
   "source": [
    "def ReLu(z):\n",
    "    ReL=np.maximum(z,0)\n",
    "    return ReL\n",
    "def sigmoid(z):\n",
    "    sig=1/(1+np.exp(-z))\n",
    "    return sig\n"
   ]
  },
  {
   "cell_type": "code",
   "execution_count": 26,
   "metadata": {
    "collapsed": true
   },
   "outputs": [],
   "source": [
    "def feedforward_4(train_x,activation_func=sigmoid):\n",
    "    layer_2_z=train_x.dot(param_save[0])+np.ones((train_x.shape[0],1)).dot(np.reshape(param_save[1],(1,param_save[1].size)))\n",
    "    layer_2_a=ReLu(layer_2_z)\n",
    "    layer_3_z=layer_2_a.dot(param_save[2])+np.ones((train_x.shape[0],1)).dot(np.reshape(param_save[3],(1,param_save[3].size)))\n",
    "    layer_3_a=ReLu(layer_3_z)\n",
    "    layer_4_z=layer_3_a.dot(param_save[4])\n",
    "    transfered_x=layer_4_z\n",
    "    return transfered_x"
   ]
  },
  {
   "cell_type": "code",
   "execution_count": 72,
   "metadata": {
    "collapsed": true
   },
   "outputs": [],
   "source": [
    "def feedforward_4_pre(train_x,activation_func=sigmoid):\n",
    "    layer_2_z=train_x.dot(param_save[0])+np.ones((train_x.shape[0],1)).dot(np.reshape(param_save[1],(1,param_save[1].size)))\n",
    "    layer_2_a=activation_func(layer_2_z)\n",
    "    layer_3_z=layer_2_a.dot(param_save[2])+np.ones((train_x.shape[0],1)).dot(np.reshape(param_save[3],(1,param_save[3].size)))\n",
    "    layer_3_a=activation_func(layer_3_z)\n",
    "    transfered_x=layer_3_a\n",
    "    return transfered_x"
   ]
  },
  {
   "cell_type": "code",
   "execution_count": 42,
   "metadata": {
    "collapsed": true
   },
   "outputs": [],
   "source": [
    "def feedforward_5(train_x,activation_func=sigmoid):\n",
    "    layer_2_z=train_x.dot(param_save[0])+np.ones((train_x.shape[0],1)).dot(np.reshape(param_save[1],(1,param_save[1].size)))\n",
    "    layer_2_a=activation_func(layer_2_z)\n",
    "    layer_3_z=layer_2_a.dot(param_save[2])+np.ones((train_x.shape[0],1)).dot(np.reshape(param_save[3],(1,param_save[3].size)))\n",
    "    layer_3_a=activation_func(layer_3_z)\n",
    "    layer_4_z=layer_3_a.dot(param_save[4])+np.ones((train_x.shape[0],1)).dot(np.reshape(param_save[5],(1,param_save[5].size)))\n",
    "    layer_4_a=activation_func(layer_4_z)\n",
    "    layer_5_z=layer_4_a.dot(param_save[6])\n",
    "    transfered_x=layer_5_z\n",
    "    return transfered_x"
   ]
  },
  {
   "cell_type": "code",
   "execution_count": 59,
   "metadata": {
    "collapsed": true
   },
   "outputs": [],
   "source": [
    "def feedforward_5_pre(train_x,activation_func=sigmoid):\n",
    "    layer_2_z=train_x.dot(param_save[0])+np.ones((train_x.shape[0],1)).dot(np.reshape(param_save[1],(1,param_save[1].size)))\n",
    "    layer_2_a=activation_func(layer_2_z)\n",
    "    layer_3_z=layer_2_a.dot(param_save[2])+np.ones((train_x.shape[0],1)).dot(np.reshape(param_save[3],(1,param_save[3].size)))\n",
    "    layer_3_a=activation_func(layer_3_z)\n",
    "    layer_4_z=layer_3_a.dot(param_save[4])+np.ones((train_x.shape[0],1)).dot(np.reshape(param_save[5],(1,param_save[5].size)))\n",
    "    layer_4_a=activation_func(layer_4_z)\n",
    "    transfered_x=layer_4_a\n",
    "    return transfered_x"
   ]
  },
  {
   "cell_type": "code",
   "execution_count": 27,
   "metadata": {
    "collapsed": false
   },
   "outputs": [],
   "source": [
    "transfered_x=feedforward_4(train_x,ReLu)\n",
    "transfered_x_val=feedforward_4(Val_x,ReLu)"
   ]
  },
  {
   "cell_type": "code",
   "execution_count": 73,
   "metadata": {
    "collapsed": true
   },
   "outputs": [],
   "source": [
    "transfered_x=feedforward_4_pre(train_x,ReLu)\n",
    "transfered_x_val=feedforward_4_pre(Val_x,ReLu)"
   ]
  },
  {
   "cell_type": "code",
   "execution_count": 43,
   "metadata": {
    "collapsed": true
   },
   "outputs": [],
   "source": [
    "transfered_x=feedforward_5(train_x,ReLu)\n",
    "transfered_x_val=feedforward_5(Val_x,ReLu)"
   ]
  },
  {
   "cell_type": "code",
   "execution_count": 60,
   "metadata": {
    "collapsed": true
   },
   "outputs": [],
   "source": [
    "transfered_x=feedforward_5_pre(train_x,ReLu)\n",
    "transfered_x_val=feedforward_5_pre(Val_x,ReLu)"
   ]
  },
  {
   "cell_type": "code",
   "execution_count": 63,
   "metadata": {
    "collapsed": false
   },
   "outputs": [
    {
     "data": {
      "text/plain": [
       "(431, 500)"
      ]
     },
     "execution_count": 63,
     "metadata": {},
     "output_type": "execute_result"
    }
   ],
   "source": [
    "transfered_x_val.shape"
   ]
  },
  {
   "cell_type": "code",
   "execution_count": 74,
   "metadata": {
    "collapsed": false
   },
   "outputs": [],
   "source": [
    "from sklearn.naive_bayes import GaussianNB\n",
    "gnb = GaussianNB()\n",
    "\n",
    "def gnb_acc(transfered_x,train_y):\n",
    "    y_pred = gnb.fit(transfered_x, train_y).predict(transfered_x)\n",
    "    accuracy=np.mean(y_pred==train_y)\n",
    "    print(accuracy)"
   ]
  },
  {
   "cell_type": "code",
   "execution_count": 75,
   "metadata": {
    "collapsed": false,
    "scrolled": true
   },
   "outputs": [
    {
     "name": "stdout",
     "output_type": "stream",
     "text": [
      "0.410774410774\n",
      "0.522041763341\n"
     ]
    }
   ],
   "source": [
    "gnb_acc(transfered_x,train_y)\n",
    "gnb_acc(transfered_x_val,Val_y)"
   ]
  },
  {
   "cell_type": "code",
   "execution_count": 76,
   "metadata": {
    "collapsed": false,
    "scrolled": true
   },
   "outputs": [],
   "source": [
    "from sklearn.ensemble import AdaBoostClassifier\n",
    "\n",
    "def ada_classifier(transfered_x,train_y,n=100):\n",
    "    clf = AdaBoostClassifier(n_estimators=n)\n",
    "    clf.fit(transfered_x,train_y)\n",
    "    y_ada_pred=clf.predict(transfered_x)\n",
    "    print(np.mean(y_ada_pred==train_y))"
   ]
  },
  {
   "cell_type": "code",
   "execution_count": 65,
   "metadata": {
    "collapsed": false
   },
   "outputs": [
    {
     "name": "stdout",
     "output_type": "stream",
     "text": [
      "0.517396184063\n",
      "0.37819025522\n"
     ]
    }
   ],
   "source": [
    "ada_classifier(transfered_x,train_y,n=100)\n",
    "ada_classifier(transfered_x_val,Val_y,n=100)"
   ]
  },
  {
   "cell_type": "code",
   "execution_count": 77,
   "metadata": {
    "collapsed": false
   },
   "outputs": [],
   "source": [
    "def ada_classifier_finder(transfered_x,train_y,n=200,step=20):\n",
    "    import matplotlib.pyplot as plt\n",
    "    n_est=[]\n",
    "    acc=[]\n",
    "    for n in xrange(20,n,step):\n",
    "        clf = AdaBoostClassifier(n_estimators=n)\n",
    "        clf.fit(transfered_x,train_y)\n",
    "        y_ada_pred=clf.predict(transfered_x)\n",
    "        acc.append(np.mean(y_ada_pred==train_y))\n",
    "        n_est.append(n)\n",
    "    plt.plot(n_est,acc)\n",
    "    plt.show()"
   ]
  },
  {
   "cell_type": "code",
   "execution_count": 78,
   "metadata": {
    "collapsed": true
   },
   "outputs": [],
   "source": [
    "ada_classifier_finder(transfered_x,train_y,500)\n",
    "ada_classifier_finder(transfered_x_val,Val_y,500)"
   ]
  },
  {
   "cell_type": "code",
   "execution_count": 51,
   "metadata": {
    "collapsed": false
   },
   "outputs": [
    {
     "name": "stdout",
     "output_type": "stream",
     "text": [
      "0.389450056117\n"
     ]
    }
   ],
   "source": [
    "clf = AdaBoostClassifier(n_estimators=100)\n",
    "clf.fit(train_x,train_y)\n",
    "y_ada_pred=clf.predict(train_x)\n",
    "print(np.mean(y_ada_pred==train_y))"
   ]
  },
  {
   "cell_type": "code",
   "execution_count": 52,
   "metadata": {
    "collapsed": false
   },
   "outputs": [
    {
     "name": "stdout",
     "output_type": "stream",
     "text": [
      "0.178654292343\n"
     ]
    }
   ],
   "source": [
    "y_ada_pred=clf.predict(Val_x)\n",
    "print(np.mean(y_ada_pred==Val_y))"
   ]
  },
  {
   "cell_type": "code",
   "execution_count": 35,
   "metadata": {
    "collapsed": true
   },
   "outputs": [],
   "source": [
    "def save_transfered(transfered_x,filename):\n",
    "    X_transfered=pd.DataFrame(transfered_x)\n",
    "    X_transfered.to_csv(filename,index=False,index_label=False,header=False)"
   ]
  },
  {
   "cell_type": "code",
   "execution_count": 68,
   "metadata": {
    "collapsed": true
   },
   "outputs": [],
   "source": [
    "save_transfered(transfered_x,\"transfered_x_pre_3hidden.csv\")\n",
    "save_transfered(transfered_x_val,\"transfered_x_val_pre_3hidden.csv\")"
   ]
  },
  {
   "cell_type": "code",
   "execution_count": 14,
   "metadata": {
    "collapsed": true
   },
   "outputs": [],
   "source": [
    "import matplotlib.pyplot as plt"
   ]
  },
  {
   "cell_type": "code",
   "execution_count": 2,
   "metadata": {
    "collapsed": false
   },
   "outputs": [
    {
     "data": {
      "text/plain": [
       "list"
      ]
     },
     "execution_count": 2,
     "metadata": {},
     "output_type": "execute_result"
    }
   ],
   "source": [
    "type(net.params)\n",
    "\n",
    "type(param_save)\n",
    "\n",
    "param_save=param_save[:-1]\n",
    "len(param_save)\n",
    "\n",
    "(train_x.dot(param_save[0])+np.ones((891,1)).dot(np.reshape(param_save[1],(1,5000)))).shape\n",
    "\n",
    "sigmoid(np.asarray(a))"
   ]
  }
 ],
 "metadata": {
  "kernelspec": {
   "display_name": "Python 3",
   "language": "python",
   "name": "python3"
  },
  "language_info": {
   "codemirror_mode": {
    "name": "ipython",
    "version": 3
   },
   "file_extension": ".py",
   "mimetype": "text/x-python",
   "name": "python",
   "nbconvert_exporter": "python",
   "pygments_lexer": "ipython3",
   "version": "3.5.1"
  }
 },
 "nbformat": 4,
 "nbformat_minor": 0
}
