{
 "cells": [
  {
   "cell_type": "code",
   "execution_count": 7,
   "metadata": {
    "collapsed": false
   },
   "outputs": [],
   "source": [
    "import pandas as pd\n",
    "import numpy as np\n",
    "import theano\n",
    "import theano.tensor as T\n"
   ]
  },
  {
   "cell_type": "code",
   "execution_count": null,
   "metadata": {
    "collapsed": true
   },
   "outputs": [],
   "source": [
    "trainy=pd.read_csv(\"./shuffled_Y.csv\",header=None)\n",
    "train_y=trainy.as_matrix()\n",
    "train_y=np.reshape(train_y,(891,))\n",
    "\n",
    "trainx=pd.read_csv(\"./transfered_x_pre_3hidden.csv\",header=None)\n",
    "train_x=trainx.as_matrix()\n",
    "#train_x=train_x/255\n"
   ]
  },
  {
   "cell_type": "code",
   "execution_count": 16,
   "metadata": {
    "collapsed": true
   },
   "outputs": [],
   "source": [
    "trainy=pd.read_csv(\"./shuffled_Y.csv\",header=None)\n",
    "train_y=trainy.as_matrix()\n",
    "train_y=np.reshape(train_y,(891,))\n",
    "\n",
    "trainx=pd.read_csv(\"./transfered_x_3hidden.csv\",header=None)\n",
    "train_x=trainx.as_matrix()\n",
    "#train_x=train_x/255\n"
   ]
  },
  {
   "cell_type": "code",
   "execution_count": 6,
   "metadata": {
    "collapsed": true
   },
   "outputs": [],
   "source": [
    "Valy=pd.read_csv(\"./shuffled_Val_Y.csv\",header=None)\n",
    "Val_y=Valy.as_matrix()\n",
    "Val_y=np.reshape(Val_y,(431,))\n",
    "\n",
    "Valx=pd.read_csv(\"./transfered_x_val_pre_3hidden.csv\",header=None)\n",
    "Val_x=Valx.as_matrix()\n",
    "#Val_x=Val_x/255\n"
   ]
  },
  {
   "cell_type": "code",
   "execution_count": 14,
   "metadata": {
    "collapsed": true
   },
   "outputs": [],
   "source": [
    "Valy=pd.read_csv(\"./shuffled_Val_Y.csv\",header=None)\n",
    "Val_y=Valy.as_matrix()\n",
    "Val_y=np.reshape(Val_y,(431,))\n",
    "\n",
    "Valx=pd.read_csv(\"./transfered_x_val_3hidden.csv\",header=None)\n",
    "Val_x=Valx.as_matrix()\n",
    "#Val_x=Val_x/255\n"
   ]
  },
  {
   "cell_type": "code",
   "execution_count": 17,
   "metadata": {
    "collapsed": false
   },
   "outputs": [
    {
     "name": "stdout",
     "output_type": "stream",
     "text": [
      "0.206496519722\n"
     ]
    }
   ],
   "source": [
    "from sklearn.naive_bayes import GaussianNB\n",
    "gnb = GaussianNB()\n",
    "y_pred = gnb.fit(train_x, train_y).predict(Val_x)\n",
    "accuracy=np.mean(y_pred==Val_y)\n",
    "print(accuracy)"
   ]
  },
  {
   "cell_type": "code",
   "execution_count": 3,
   "metadata": {
    "collapsed": false
   },
   "outputs": [
    {
     "name": "stdout",
     "output_type": "stream",
     "text": [
      "0.533642691415\n"
     ]
    }
   ],
   "source": [
    "gnb_acc(train_x,train_y)\n",
    "#gnb_acc(transfered_x_val,Val_y)"
   ]
  },
  {
   "cell_type": "code",
   "execution_count": null,
   "metadata": {
    "collapsed": false
   },
   "outputs": [
    {
     "name": "stderr",
     "output_type": "stream",
     "text": [
      "Using gpu device 0: GeForce 920M (CNMeM is disabled, cuDNN not available)\n"
     ]
    }
   ],
   "source": [
    "from sklearn.discriminant_analysis import LinearDiscriminantAnalysis\n",
    "clf = LinearDiscriminantAnalysis(solver='lsqr', shrinkage='auto')\n",
    "clf.fit(train_x,train_y)\n",
    "y_pred = clf.predict(train_x)\n",
    "np.mean(y_pred==train_y)"
   ]
  },
  {
   "cell_type": "code",
   "execution_count": 18,
   "metadata": {
    "collapsed": false
   },
   "outputs": [
    {
     "data": {
      "text/plain": [
       "0.23897911832946636"
      ]
     },
     "execution_count": 18,
     "metadata": {},
     "output_type": "execute_result"
    }
   ],
   "source": [
    "from sklearn.neighbors import KNeighborsClassifier\n",
    "nbrs = KNeighborsClassifier(n_neighbors=5, algorithm='ball_tree')\n",
    "nbrs.fit(train_x,train_y)\n",
    "y_pred = nbrs.predict(Val_x)\n",
    "np.mean(y_pred==Val_y)"
   ]
  },
  {
   "cell_type": "code",
   "execution_count": 10,
   "metadata": {
    "collapsed": false
   },
   "outputs": [
    {
     "name": "stdout",
     "output_type": "stream",
     "text": [
      "0.22969837587\n"
     ]
    }
   ],
   "source": [
    "from sklearn.ensemble import AdaBoostClassifier\n",
    "clf = AdaBoostClassifier(n_estimators=100)\n",
    "clf.fit(train_x,train_y)\n",
    "print(np.mean(clf.predict(Val_x)==Val_y))"
   ]
  },
  {
   "cell_type": "code",
   "execution_count": 20,
   "metadata": {
    "collapsed": false
   },
   "outputs": [],
   "source": [
    "import matplotlib.pyplot as plt\n",
    "n_est=[]\n",
    "acc=[]\n",
    "for n in xrange(20,500,20):\n",
    "    clf = AdaBoostClassifier(n_estimators=n)\n",
    "    clf.fit(train_x,train_y)\n",
    "    acc.append(np.mean(clf.predict(Val_x)==Val_y))\n",
    "    n_est.append(n)\n",
    "plt.plot(n_est,acc)\n",
    "plt.show()"
   ]
  },
  {
   "cell_type": "code",
   "execution_count": null,
   "metadata": {
    "collapsed": true
   },
   "outputs": [],
   "source": []
  }
 ],
 "metadata": {
  "kernelspec": {
   "display_name": "Python 2",
   "language": "python",
   "name": "python2"
  },
  "language_info": {
   "codemirror_mode": {
    "name": "ipython",
    "version": 2
   },
   "file_extension": ".py",
   "mimetype": "text/x-python",
   "name": "python",
   "nbconvert_exporter": "python",
   "pygments_lexer": "ipython2",
   "version": "2.7.11"
  }
 },
 "nbformat": 4,
 "nbformat_minor": 0
}
